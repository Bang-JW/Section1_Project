{
 "cells": [
  {
   "cell_type": "code",
   "execution_count": 1,
   "id": "16137795",
   "metadata": {},
   "outputs": [],
   "source": [
    "import pandas as pd\n",
    "import numpy as np\n",
    "import re\n",
    "import tensorflow_datasets as tfds\n",
    "import tensorflow as tf"
   ]
  },
  {
   "cell_type": "markdown",
   "id": "c7235633",
   "metadata": {},
   "source": [
    "## 데이터 선정 이유\n",
    "\n",
    "- 현대 사회의 1인가구 비율은 높아지고 있음.\n",
    "- 혼자 있는 시간에 필요한 대화용 챗봇을 만들어 보기로 함."
   ]
  },
  {
   "cell_type": "code",
   "execution_count": 2,
   "id": "c7f5a2b5",
   "metadata": {},
   "outputs": [],
   "source": [
    "train = pd.read_csv('ChatBotData.csv')"
   ]
  },
  {
   "cell_type": "code",
   "execution_count": 3,
   "id": "d70a7b53",
   "metadata": {
    "scrolled": true
   },
   "outputs": [
    {
     "data": {
      "text/html": [
       "<div>\n",
       "<style scoped>\n",
       "    .dataframe tbody tr th:only-of-type {\n",
       "        vertical-align: middle;\n",
       "    }\n",
       "\n",
       "    .dataframe tbody tr th {\n",
       "        vertical-align: top;\n",
       "    }\n",
       "\n",
       "    .dataframe thead th {\n",
       "        text-align: right;\n",
       "    }\n",
       "</style>\n",
       "<table border=\"1\" class=\"dataframe\">\n",
       "  <thead>\n",
       "    <tr style=\"text-align: right;\">\n",
       "      <th></th>\n",
       "      <th>Q</th>\n",
       "      <th>A</th>\n",
       "      <th>label</th>\n",
       "    </tr>\n",
       "  </thead>\n",
       "  <tbody>\n",
       "    <tr>\n",
       "      <th>300</th>\n",
       "      <td>귀가 간지러</td>\n",
       "      <td>누가 욕하고 있나봐요.</td>\n",
       "      <td>0</td>\n",
       "    </tr>\n",
       "    <tr>\n",
       "      <th>301</th>\n",
       "      <td>귀가 윙윙거려</td>\n",
       "      <td>병원에 가세요.</td>\n",
       "      <td>0</td>\n",
       "    </tr>\n",
       "    <tr>\n",
       "      <th>302</th>\n",
       "      <td>귀농 어때?</td>\n",
       "      <td>생각하기는 쉬운데 실천하기는 어려운 것 같아요.</td>\n",
       "      <td>0</td>\n",
       "    </tr>\n",
       "    <tr>\n",
       "      <th>303</th>\n",
       "      <td>그 사람이 나 안 좋아하는 거 같아</td>\n",
       "      <td>슬픈 이야기네요.</td>\n",
       "      <td>0</td>\n",
       "    </tr>\n",
       "    <tr>\n",
       "      <th>304</th>\n",
       "      <td>그 사람이 나 좋아해줬으면 좋겠다</td>\n",
       "      <td>저도 간절히 기도 할게요.</td>\n",
       "      <td>0</td>\n",
       "    </tr>\n",
       "    <tr>\n",
       "      <th>305</th>\n",
       "      <td>그 사람이 행복했으면 좋겠다</td>\n",
       "      <td>그렇게 될 수 있을 거예요.</td>\n",
       "      <td>0</td>\n",
       "    </tr>\n",
       "    <tr>\n",
       "      <th>306</th>\n",
       "      <td>그 시절엔 다 그랬지</td>\n",
       "      <td>추억에 잠길 때도 필요해요.</td>\n",
       "      <td>0</td>\n",
       "    </tr>\n",
       "    <tr>\n",
       "      <th>307</th>\n",
       "      <td>그냥 고백할걸</td>\n",
       "      <td>후회는 후회를 낳을뿐이에요. 용기 내세요.</td>\n",
       "      <td>0</td>\n",
       "    </tr>\n",
       "    <tr>\n",
       "      <th>308</th>\n",
       "      <td>그냥 공무원이 좋을 듯</td>\n",
       "      <td>시작이 반이에요. 어서 준비하세요.</td>\n",
       "      <td>0</td>\n",
       "    </tr>\n",
       "    <tr>\n",
       "      <th>309</th>\n",
       "      <td>그냥 내버려 둬 주었으면</td>\n",
       "      <td>아무도 없는 곳으로 여행을 떠나보세요.</td>\n",
       "      <td>0</td>\n",
       "    </tr>\n",
       "  </tbody>\n",
       "</table>\n",
       "</div>"
      ],
      "text/plain": [
       "                       Q                           A  label\n",
       "300               귀가 간지러                누가 욕하고 있나봐요.      0\n",
       "301              귀가 윙윙거려                    병원에 가세요.      0\n",
       "302               귀농 어때?  생각하기는 쉬운데 실천하기는 어려운 것 같아요.      0\n",
       "303  그 사람이 나 안 좋아하는 거 같아                   슬픈 이야기네요.      0\n",
       "304   그 사람이 나 좋아해줬으면 좋겠다              저도 간절히 기도 할게요.      0\n",
       "305      그 사람이 행복했으면 좋겠다             그렇게 될 수 있을 거예요.      0\n",
       "306          그 시절엔 다 그랬지             추억에 잠길 때도 필요해요.      0\n",
       "307              그냥 고백할걸     후회는 후회를 낳을뿐이에요. 용기 내세요.      0\n",
       "308         그냥 공무원이 좋을 듯         시작이 반이에요. 어서 준비하세요.      0\n",
       "309        그냥 내버려 둬 주었으면       아무도 없는 곳으로 여행을 떠나보세요.      0"
      ]
     },
     "execution_count": 3,
     "metadata": {},
     "output_type": "execute_result"
    }
   ],
   "source": [
    "train[300:310]"
   ]
  },
  {
   "cell_type": "code",
   "execution_count": 4,
   "id": "413b6b89",
   "metadata": {},
   "outputs": [],
   "source": [
    "questions = []\n",
    "for sentence in train['Q']:\n",
    "    sentence = re.sub(r\"([?.!,])\", r\" \\1 \", sentence)\n",
    "    sentence = sentence.strip()\n",
    "    questions.append(sentence)"
   ]
  },
  {
   "cell_type": "code",
   "execution_count": 5,
   "id": "38059497",
   "metadata": {},
   "outputs": [],
   "source": [
    "answers = []\n",
    "for sentence in train['A']:\n",
    "    sentence = re.sub(r\"([?.!,])\", r\" \\1 \", sentence)\n",
    "    sentence = sentence.strip()\n",
    "    answers.append(sentence)"
   ]
  },
  {
   "cell_type": "code",
   "execution_count": 6,
   "id": "d4aef38c",
   "metadata": {},
   "outputs": [],
   "source": [
    "# subword text encoder 사용하여 질문, 답변 모두 포함한 단어집합 생성\n",
    "# subword text encoder : 하나의 단어를 여러 서브워드로 분리해서 단어를 인코딩 및 임베딩하겠다는 의도를 가진 전처리 작업.\n",
    "\n",
    "tokenizer = tfds.deprecated.text.SubwordTextEncoder.build_from_corpus(questions + answers, target_vocab_size=2**13)\n",
    "\n",
    "#시작토큰, 종료토큰 변수 설정\n",
    "START_TOKEN, END_TOKEN = [tokenizer.vocab_size], [tokenizer.vocab_size + 1]\n",
    "\n",
    "VOCAB_SIZE = tokenizer.vocab_size + 2"
   ]
  },
  {
   "cell_type": "code",
   "execution_count": 7,
   "id": "07908f18",
   "metadata": {},
   "outputs": [],
   "source": [
    "MAX_LENGTH = 40\n",
    "\n",
    "def tokenize_and_filter(inputs, outputs):\n",
    "    tokenized_inputs, tokenized_outputs = [], []\n",
    "    \n",
    "    #토큰화 후 인코딩, 시작 종료 토큰 추가\n",
    "    for (sentence1, sentence2) in zip(inputs, outputs):\n",
    "        sentence1 = START_TOKEN + tokenizer.encode(sentence1) + END_TOKEN\n",
    "        sentence2 = START_TOKEN + tokenizer.encode(sentence2) + END_TOKEN\n",
    "        \n",
    "        tokenized_inputs.append(sentence1)\n",
    "        tokenized_outputs.append(sentence2)\n",
    "        \n",
    "    tokenized_inputs = tf.keras.preprocessing.sequence.pad_sequences(tokenized_inputs, maxlen=MAX_LENGTH, padding='post')\n",
    "    tokenized_outputs = tf.keras.preprocessing.sequence.pad_sequences(tokenized_outputs, maxlen=MAX_LENGTH, padding='post')\n",
    "    \n",
    "    return tokenized_inputs, tokenized_outputs\n",
    "\n",
    "\n",
    "questions, answers = tokenize_and_filter(questions, answers)"
   ]
  },
  {
   "cell_type": "markdown",
   "id": "db9ed169",
   "metadata": {},
   "source": [
    "## transformer model 구축\n",
    "\n",
    "1. Positional Encoding\n",
    "2. Scaled Dot Product\n",
    "3. MultiHeadAttention\n",
    "4. Padding Mask\n",
    "5. Encoder\n",
    "6. Decoder"
   ]
  },
  {
   "cell_type": "markdown",
   "id": "89364e51",
   "metadata": {},
   "source": [
    "## Positional Encoding"
   ]
  },
  {
   "cell_type": "code",
   "execution_count": 8,
   "id": "b2412be8",
   "metadata": {},
   "outputs": [],
   "source": [
    "class PositionalEncoding(tf.keras.layers.Layer):\n",
    "    def __init__(self, position, d_model):\n",
    "        super(PositionalEncoding, self).__init__()\n",
    "        self.pos_encoding = self.positional_encoding(position, d_model)\n",
    "        \n",
    "    def get_angles(self, position, i, d_model):\n",
    "        angles = 1 / tf.pow(10000,(2*(i//2)) / tf.cast(d_model, tf.float32))\n",
    "        return position * angles\n",
    "    \n",
    "    def positional_encoding(self, position, d_model):\n",
    "        angle_rads = self.get_angles(position=tf.range(position, dtype=tf.float32)[:, tf.newaxis],\n",
    "                                    i=tf.range(d_model, dtype=tf.float32)[tf.newaxis, :],\n",
    "                                    d_model=d_model)\n",
    "        \n",
    "        sines = tf.math.sin(angle_rads[:, 0::2])\n",
    "        cosines = tf.math.cos(angle_rads[:, 1::2])\n",
    "        \n",
    "        angle_rads = np.zeros(angle_rads.shape)\n",
    "        angle_rads[:, 0::2] = sines\n",
    "        angle_rads[:, 1::2] = cosines\n",
    "        pos_encoding = tf.constant(angle_rads)\n",
    "        pos_encoding = pos_encoding[tf.newaxis, ...]\n",
    "\n",
    "        print(pos_encoding.shape)\n",
    "        return tf.cast(pos_encoding, tf.float32)\n",
    "\n",
    "    def call(self, inputs):\n",
    "        return inputs + self.pos_encoding[:, :tf.shape(inputs)[1], :]    "
   ]
  },
  {
   "cell_type": "markdown",
   "id": "39a1440f",
   "metadata": {},
   "source": [
    "## Scaled Dot Product"
   ]
  },
  {
   "cell_type": "code",
   "execution_count": 9,
   "id": "df04f1c7",
   "metadata": {},
   "outputs": [],
   "source": [
    "def scaled_dot_product_attention(query, key, value, mask):    \n",
    "    \n",
    "    matmul_qk = tf.matmul(query, key, transpose_b=True)\n",
    "    \n",
    "    depth = tf.cast(tf.shape(key)[-1], tf.float32)\n",
    "    logits = matmul_qk / tf.math.sqrt(depth)\n",
    "    \n",
    "    if mask is not None:\n",
    "        logits += (mask * -1e9)\n",
    "        \n",
    "    attention_weights = tf.nn.softmax(logits, axis=-1)\n",
    "    \n",
    "    output = tf.matmul(attention_weights, value)\n",
    "    \n",
    "    return output, attention_weights    "
   ]
  },
  {
   "cell_type": "markdown",
   "id": "884d7e33",
   "metadata": {},
   "source": [
    "## MultiHeadAttention"
   ]
  },
  {
   "cell_type": "code",
   "execution_count": 10,
   "id": "4ebbadbd",
   "metadata": {},
   "outputs": [],
   "source": [
    "class MultiHeadAttention(tf.keras.layers.Layer):\n",
    "    \n",
    "    def __init__(self, d_model, num_heads, name=\"multi_head_attention\"):\n",
    "        super(MultiHeadAttention, self).__init__(name=name)\n",
    "        self.num_heads = num_heads\n",
    "        self.d_model = d_model\n",
    "        \n",
    "        assert d_model % self.num_heads == 0\n",
    "        \n",
    "        self.depth = d_model // self.num_heads\n",
    "        \n",
    "        self.query_dense = tf.keras.layers.Dense(units=d_model)\n",
    "        self.key_dense = tf.keras.layers.Dense(units=d_model)\n",
    "        self.value_dense = tf.keras.layers.Dense(units=d_model)\n",
    "        \n",
    "        self.dense = tf.keras.layers.Dense(units=d_model)\n",
    "        \n",
    "    def split_heads(self, inputs, batch_size):\n",
    "        inputs= tf.reshape(inputs, shape=(batch_size, -1, self.num_heads, self.depth))\n",
    "        return tf.transpose(inputs, perm=[0,2,1,3])\n",
    "    \n",
    "    def call(self, inputs):\n",
    "        query, key, value, mask = inputs['query'], inputs['key'], inputs['value'], inputs['mask']\n",
    "        batch_size = tf.shape(query)[0]\n",
    "        \n",
    "        query = self.query_dense(query)\n",
    "        key = self.key_dense(key)\n",
    "        value = self.value_dense(value)\n",
    "        \n",
    "        query = self.split_heads(query, batch_size)\n",
    "        key = self.split_heads(key, batch_size)\n",
    "        value = self.split_heads(value, batch_size)\n",
    "        \n",
    "        scaled_attention, _ = scaled_dot_product_attention(query, key, value, mask)\n",
    "        scaled_attention = tf.transpose(scaled_attention, perm = [0, 2, 1, 3])\n",
    "        \n",
    "        concat_attention = tf.reshape(scaled_attention, (batch_size, -1, self.d_model))\n",
    "        \n",
    "        outputs = self.dense(concat_attention)\n",
    "        \n",
    "        return outputs"
   ]
  },
  {
   "cell_type": "code",
   "execution_count": 11,
   "id": "e7824403",
   "metadata": {},
   "outputs": [],
   "source": [
    "def create_padding_mask(x):\n",
    "    mask = tf.cast(tf.math.equal(x,0), tf.float32)\n",
    "    return mask[:, tf.newaxis, tf.newaxis, :]"
   ]
  },
  {
   "cell_type": "markdown",
   "id": "5841f35a",
   "metadata": {},
   "source": [
    "## Encoder Part"
   ]
  },
  {
   "cell_type": "code",
   "execution_count": 12,
   "id": "d0a53b76",
   "metadata": {},
   "outputs": [],
   "source": [
    "def encoder_layer(dff, d_model, num_heads, dropout, name=\"encoder_layer\"):\n",
    "    inputs = tf.keras.Input(shape=(None, d_model), name=\"inputs\")\n",
    "    \n",
    "    padding_mask = tf.keras.Input(shape=(1,1,None), name=\"padding_mask\")\n",
    "    \n",
    "    attention = MultiHeadAttention(d_model, num_heads, name=\"attention\")({'query': inputs, 'key': inputs, 'value' : inputs,\n",
    "                                                                         'mask' : padding_mask})\n",
    "    \n",
    "    #dropout + 잔차 연결 층 정규화    \n",
    "    attention = tf.keras.layers.Dropout(rate=dropout)(attention)\n",
    "    attention = tf.keras.layers.LayerNormalization(epsilon=1e-6)(inputs + attention)\n",
    "    \n",
    "    # position wise feed forward\n",
    "    outputs = tf.keras.layers.Dense(units = dff, activation='relu')(attention)\n",
    "    outputs = tf.keras.layers.Dense(units = d_model)(outputs)\n",
    "    \n",
    "    #dropout + 잔차 연결\n",
    "    outputs = tf.keras.layers.Dropout(rate=dropout)(outputs)\n",
    "    outputs = tf.keras.layers.LayerNormalization(epsilon=1e-6)(attention + outputs)\n",
    "    \n",
    "    return tf.keras.Model(inputs=[inputs, padding_mask], outputs=outputs, name=name)   "
   ]
  },
  {
   "cell_type": "code",
   "execution_count": 13,
   "id": "04ef4693",
   "metadata": {},
   "outputs": [],
   "source": [
    "def encoder(vocab_size, num_layers, dff, d_model, num_heads, dropout, name=\"encoder\"):\n",
    "    inputs = tf.keras.Input(shape=(None,), name=\"inputs\")\n",
    "    \n",
    "    padding_mask = tf.keras.Input(shape=(1, 1, None), name = 'padding_mask')\n",
    "    \n",
    "    embeddings = tf.keras.layers.Embedding(vocab_size, d_model)(inputs)\n",
    "    embeddings *= tf.math.sqrt(tf.cast(d_model, tf.float32))\n",
    "    embeddings = PositionalEncoding(vocab_size, d_model)(embeddings)\n",
    "    outputs = tf.keras.layers.Dropout(rate=dropout)(embeddings)\n",
    "    \n",
    "    for i in range(num_layers):\n",
    "        outputs = encoder_layer(dff=dff, d_model=d_model, num_heads=num_heads,\n",
    "                                dropout=dropout, name = \"encoder_layer_{}\".format(i),\n",
    "                               )([outputs, padding_mask])\n",
    "        \n",
    "    return tf.keras.Model(inputs=[inputs, padding_mask], outputs = outputs, name=name)"
   ]
  },
  {
   "cell_type": "markdown",
   "id": "48e17248",
   "metadata": {},
   "source": [
    "## Decoder Part"
   ]
  },
  {
   "cell_type": "code",
   "execution_count": 14,
   "id": "ec285208",
   "metadata": {},
   "outputs": [],
   "source": [
    "def create_look_ahead_mask(x):\n",
    "    seq_len = tf.shape(x)[1]\n",
    "    look_ahead_mask = 1 - tf.linalg.band_part(tf.ones((seq_len, seq_len)), -1, 0)\n",
    "    padding_mask = create_padding_mask(x)\n",
    "    return tf.maximum(look_ahead_mask, padding_mask)"
   ]
  },
  {
   "cell_type": "code",
   "execution_count": 15,
   "id": "30ebb9d8",
   "metadata": {},
   "outputs": [],
   "source": [
    "def decoder_layer(dff, d_model, num_heads, dropout, name=\"decoder_layer\"):\n",
    "    inputs = tf.keras.Input(shape=(None, d_model), name = \"inputs\")\n",
    "    enc_outputs = tf.keras.Input(shape=(None, d_model), name=\"encoder_outputs\")\n",
    "    \n",
    "    look_ahead_mask = tf.keras.Input(shape=(1,None, None), name = \"look_ahead_mask\")\n",
    "    padding_mask = tf.keras.Input(shape=(1,1,None), name='padding_mask')\n",
    "    \n",
    "    # 1.masked self attention(첫번째 서브층)\n",
    "    attention1 = MultiHeadAttention(d_model, num_heads, name=\"attention_1\")(inputs={'query': inputs,\n",
    "                                                                                   'key' : inputs,\n",
    "                                                                                   'value': inputs,\n",
    "                                                                                   'mask' : look_ahead_mask})\n",
    "    #normalize\n",
    "    attention1 = tf.keras.layers.LayerNormalization(epsilon=1e-6)(attention1 + inputs)\n",
    "    \n",
    "    #2. decoder-encoder attention(두번째 서브층)\n",
    "    attention2 = MultiHeadAttention(d_model, num_heads, name=\"attention_2\")(inputs={'query': attention1,\n",
    "                                                                                   'key' : enc_outputs,\n",
    "                                                                                   'value': enc_outputs,\n",
    "                                                                                   'mask' : padding_mask})\n",
    "    \n",
    "    #normalize\n",
    "    attention2 = tf.keras.layers.Dropout(rate=dropout)(attention2)\n",
    "    attention2 = tf.keras.layers.LayerNormalization(epsilon=1e-6)(attention2 + attention1)\n",
    "    \n",
    "    # 3. position wise feed forward(세번째 서브층)\n",
    "    outputs = tf.keras.layers.Dense(units=dff, activation='relu')(attention2)\n",
    "    outputs = tf.keras.layers.Dense(units=d_model)(outputs)\n",
    "    \n",
    "    #nomarlize\n",
    "    outputs = tf.keras.layers.Dropout(rate=dropout)(outputs)\n",
    "    outputs = tf.keras.layers.LayerNormalization(epsilon=1e-6)(outputs + attention2)\n",
    "    \n",
    "    return tf.keras.Model(inputs=[inputs, enc_outputs, look_ahead_mask, padding_mask], outputs=outputs, name=name)"
   ]
  },
  {
   "cell_type": "code",
   "execution_count": 16,
   "id": "b9e23dfe",
   "metadata": {},
   "outputs": [],
   "source": [
    "def decoder(vocab_size, num_layers, dff, d_model, num_heads, dropout, name='decoder'):\n",
    "    inputs = tf.keras.Input(shape=(None, ), name='inputs')\n",
    "    enc_outputs = tf.keras.Input(shape=(None, d_model), name='encoder_outputs')\n",
    "    \n",
    "    look_ahead_mask = tf.keras.Input(shape=(1, None, None), name = 'look_ahead_mask')\n",
    "    padding_mask = tf.keras.Input(shape=(1,1,None), name = 'padding_mask')\n",
    "    \n",
    "    embeddings = tf.keras.layers.Embedding(vocab_size, d_model)(inputs)\n",
    "    embeddings *= tf.math.sqrt(tf.cast(d_model, tf.float32))\n",
    "    embeddings = PositionalEncoding(vocab_size, d_model)(embeddings)\n",
    "    outputs = tf.keras.layers.Dropout(rate=dropout)(embeddings)\n",
    "    \n",
    "    for i in range(num_layers):\n",
    "        outputs = decoder_layer(dff=dff, d_model=d_model, num_heads=num_heads, dropout=dropout, \n",
    "                                name='decoder_layer_{}'.format(i),\n",
    "                               )(inputs=[outputs, enc_outputs, look_ahead_mask, padding_mask])\n",
    "        \n",
    "    return tf.keras.Model(inputs=[inputs, enc_outputs, look_ahead_mask, padding_mask], outputs=outputs, name=name)"
   ]
  },
  {
   "cell_type": "code",
   "execution_count": 17,
   "id": "69bc8477",
   "metadata": {},
   "outputs": [],
   "source": [
    "def transformer(vocab_size, num_layers, dff, d_model, num_heads, dropout, name=\"transformer\"):\n",
    "    \n",
    "    inputs = tf.keras.Input(shape=(None, ), name=\"inputs\")\n",
    "    \n",
    "    dec_inputs = tf.keras.Input(shape=(None, ), name=\"dec_inputs\")\n",
    "    \n",
    "    enc_padding_mask = tf.keras.layers.Lambda(create_padding_mask,\n",
    "                                              output_shape= (1,1,None),name='enc_padding_mask')(inputs)\n",
    "    \n",
    "    look_ahead_mask = tf.keras.layers.Lambda(create_look_ahead_mask,\n",
    "                                             output_shape=(1,None,None),name='look_ahead_mask')(dec_inputs)\n",
    "    \n",
    "    dec_padding_mask = tf.keras.layers.Lambda(create_padding_mask,\n",
    "                                              output_shape=(1,1,None), name = 'dec_padding_maks')(inputs)\n",
    "    \n",
    "    enc_outputs = encoder(vocab_size=vocab_size, num_layers=num_layers, dff=dff, d_model=d_model, num_heads=num_heads,\n",
    "                         dropout=dropout,)(inputs=[inputs, enc_padding_mask])\n",
    "    \n",
    "    dec_outputs = decoder(vocab_size=vocab_size, num_layers=num_layers, dff=dff, d_model=d_model, num_heads=num_heads,\n",
    "                         dropout=dropout,)(inputs=[dec_inputs, enc_outputs, look_ahead_mask, dec_padding_mask])  \n",
    "        \n",
    "    outputs = tf.keras.layers.Dense(units=vocab_size, name=\"outputs\")(dec_outputs)\n",
    "    \n",
    "    return tf.keras.Model(inputs=[inputs, dec_inputs], outputs=outputs, name=name)"
   ]
  },
  {
   "cell_type": "markdown",
   "id": "9613eae7",
   "metadata": {},
   "source": [
    "## loss_funtion, learning_rate_scheduler"
   ]
  },
  {
   "cell_type": "code",
   "execution_count": 18,
   "id": "0d2a1d8b",
   "metadata": {},
   "outputs": [],
   "source": [
    "def loss_function(y_true, y_pred):\n",
    "    y_true = tf.reshape(y_true, shape=(-1, MAX_LENGTH - 1))\n",
    "    loss = tf.keras.losses.SparseCategoricalCrossentropy(from_logits=True, reduction='none')(y_true, y_pred)\n",
    "    mask = tf.cast(tf.not_equal(y_true, 0), tf.float32)\n",
    "    loss = tf.multiply(loss, mask)\n",
    "    return tf.reduce_mean(loss)"
   ]
  },
  {
   "cell_type": "code",
   "execution_count": 19,
   "id": "3fbd07ab",
   "metadata": {},
   "outputs": [],
   "source": [
    "class CustomSchedule(tf.keras.optimizers.schedules.LearningRateSchedule):\n",
    "    def __init__(self, d_model, warmup_steps=4000):\n",
    "        super(CustomSchedule, self).__init__()\n",
    "        self.d_model = d_model\n",
    "        self.d_model = tf.cast(self.d_model, tf.float32)\n",
    "        self.warmup_steps = warmup_steps\n",
    "        \n",
    "    def __call__(self, step):\n",
    "        arg1 = tf.math.rsqrt(step)\n",
    "        arg2 = step * (self.warmup_steps**-1.5)\n",
    "        \n",
    "        return tf.math.rsqrt(self.d_model) * tf.math.minimum(arg1, arg2)"
   ]
  },
  {
   "cell_type": "code",
   "execution_count": 20,
   "id": "e926e0d0",
   "metadata": {},
   "outputs": [],
   "source": [
    "BATCH_SIZE = 64\n",
    "BUFFER_SIZE = 20000\n",
    "\n",
    "# 디코더의 실제값 시퀀스에서는 시작 토큰을 제거해야 한다.\n",
    "dataset = tf.data.Dataset.from_tensor_slices((\n",
    "    {\n",
    "        'inputs': questions,\n",
    "        'dec_inputs': answers[:, :-1] # 디코더의 입력. 마지막 패딩 토큰이 제거된다.\n",
    "    },\n",
    "    {\n",
    "        'outputs': answers[:, 1:]  # 맨 처음 토큰이 제거된다. 다시 말해 시작 토큰이 제거된다.\n",
    "    },\n",
    "))\n",
    "\n",
    "dataset = dataset.cache()\n",
    "dataset = dataset.shuffle(BUFFER_SIZE)\n",
    "dataset = dataset.batch(BATCH_SIZE)\n",
    "dataset = dataset.prefetch(tf.data.experimental.AUTOTUNE)"
   ]
  },
  {
   "cell_type": "code",
   "execution_count": 21,
   "id": "c265333c",
   "metadata": {},
   "outputs": [
    {
     "name": "stdout",
     "output_type": "stream",
     "text": [
      "(1, 8180, 256)\n",
      "(1, 8180, 256)\n"
     ]
    }
   ],
   "source": [
    "tf.keras.backend.clear_session()\n",
    "\n",
    "# hyper parameter 설정\n",
    "NUM_LAYERS = 2\n",
    "D_MODEL = 256\n",
    "NUM_HEADS = 8\n",
    "DFF = 512\n",
    "DROPOUT = 0.1\n",
    "\n",
    "model = transformer(\n",
    "    vocab_size=VOCAB_SIZE,\n",
    "    num_layers=NUM_LAYERS,\n",
    "    dff=DFF,\n",
    "    d_model=D_MODEL,\n",
    "    num_heads=NUM_HEADS,\n",
    "    dropout=DROPOUT)"
   ]
  },
  {
   "cell_type": "code",
   "execution_count": 22,
   "id": "ab9ed3af",
   "metadata": {},
   "outputs": [],
   "source": [
    "MAX_LENGTH = 40\n",
    "\n",
    "learning_rate = CustomSchedule(D_MODEL)\n",
    "\n",
    "optimizer = tf.keras.optimizers.Adam(\n",
    "    learning_rate, beta_1=0.9, beta_2=0.98, epsilon=1e-9)\n",
    "\n",
    "def accuracy(y_true, y_pred):\n",
    "    y_true = tf.reshape(y_true, shape=(-1, MAX_LENGTH - 1))\n",
    "    return tf.keras.metrics.sparse_categorical_accuracy(y_true, y_pred)\n",
    "\n",
    "model.compile(optimizer=optimizer, loss=loss_function, metrics=[accuracy])"
   ]
  },
  {
   "cell_type": "code",
   "execution_count": 23,
   "id": "5ee2a0d7",
   "metadata": {
    "scrolled": true
   },
   "outputs": [
    {
     "name": "stdout",
     "output_type": "stream",
     "text": [
      "Epoch 1/100\n",
      "185/185 [==============================] - 17s 66ms/step - loss: 1.4549 - accuracy: 0.0221\n",
      "Epoch 2/100\n",
      "185/185 [==============================] - 12s 66ms/step - loss: 1.1816 - accuracy: 0.0495\n",
      "Epoch 3/100\n",
      "185/185 [==============================] - 12s 66ms/step - loss: 1.0054 - accuracy: 0.0505\n",
      "Epoch 4/100\n",
      "185/185 [==============================] - 12s 66ms/step - loss: 0.9273 - accuracy: 0.0541\n",
      "Epoch 5/100\n",
      "185/185 [==============================] - 12s 65ms/step - loss: 0.8696 - accuracy: 0.0576\n",
      "Epoch 6/100\n",
      "185/185 [==============================] - 12s 65ms/step - loss: 0.8099 - accuracy: 0.0618\n",
      "Epoch 7/100\n",
      "185/185 [==============================] - 12s 64ms/step - loss: 0.7435 - accuracy: 0.0679\n",
      "Epoch 8/100\n",
      "185/185 [==============================] - 12s 64ms/step - loss: 0.6707 - accuracy: 0.0753\n",
      "Epoch 9/100\n",
      "185/185 [==============================] - 12s 65ms/step - loss: 0.5923 - accuracy: 0.0844\n",
      "Epoch 10/100\n",
      "185/185 [==============================] - 12s 64ms/step - loss: 0.5094 - accuracy: 0.0940\n",
      "Epoch 11/100\n",
      "185/185 [==============================] - 12s 65ms/step - loss: 0.4259 - accuracy: 0.1042\n",
      "Epoch 12/100\n",
      "185/185 [==============================] - 12s 65ms/step - loss: 0.3456 - accuracy: 0.1153\n",
      "Epoch 13/100\n",
      "185/185 [==============================] - 12s 64ms/step - loss: 0.2699 - accuracy: 0.1264\n",
      "Epoch 14/100\n",
      "185/185 [==============================] - 12s 64ms/step - loss: 0.2053 - accuracy: 0.1362\n",
      "Epoch 15/100\n",
      "185/185 [==============================] - 12s 65ms/step - loss: 0.1505 - accuracy: 0.1456\n",
      "Epoch 16/100\n",
      "185/185 [==============================] - 12s 65ms/step - loss: 0.1086 - accuracy: 0.1533\n",
      "Epoch 17/100\n",
      "185/185 [==============================] - 12s 64ms/step - loss: 0.0791 - accuracy: 0.1587\n",
      "Epoch 18/100\n",
      "185/185 [==============================] - 12s 64ms/step - loss: 0.0612 - accuracy: 0.1617\n",
      "Epoch 19/100\n",
      "185/185 [==============================] - 12s 65ms/step - loss: 0.0504 - accuracy: 0.1638\n",
      "Epoch 20/100\n",
      "185/185 [==============================] - 12s 64ms/step - loss: 0.0448 - accuracy: 0.1647\n",
      "Epoch 21/100\n",
      "185/185 [==============================] - 12s 64ms/step - loss: 0.0422 - accuracy: 0.1650\n",
      "Epoch 22/100\n",
      "185/185 [==============================] - 12s 64ms/step - loss: 0.0405 - accuracy: 0.1651\n",
      "Epoch 23/100\n",
      "185/185 [==============================] - 12s 64ms/step - loss: 0.0369 - accuracy: 0.1660\n",
      "Epoch 24/100\n",
      "185/185 [==============================] - 12s 64ms/step - loss: 0.0309 - accuracy: 0.1673\n",
      "Epoch 25/100\n",
      "185/185 [==============================] - 12s 65ms/step - loss: 0.0280 - accuracy: 0.1682\n",
      "Epoch 26/100\n",
      "185/185 [==============================] - 12s 65ms/step - loss: 0.0247 - accuracy: 0.1691\n",
      "Epoch 27/100\n",
      "185/185 [==============================] - 12s 65ms/step - loss: 0.0221 - accuracy: 0.1698\n",
      "Epoch 28/100\n",
      "185/185 [==============================] - 12s 65ms/step - loss: 0.0208 - accuracy: 0.1700\n",
      "Epoch 29/100\n",
      "185/185 [==============================] - 12s 64ms/step - loss: 0.0183 - accuracy: 0.1706\n",
      "Epoch 30/100\n",
      "185/185 [==============================] - 12s 65ms/step - loss: 0.0166 - accuracy: 0.1710\n",
      "Epoch 31/100\n",
      "185/185 [==============================] - 12s 65ms/step - loss: 0.0150 - accuracy: 0.1715\n",
      "Epoch 32/100\n",
      "185/185 [==============================] - 12s 65ms/step - loss: 0.0148 - accuracy: 0.1715\n",
      "Epoch 33/100\n",
      "185/185 [==============================] - 12s 64ms/step - loss: 0.0133 - accuracy: 0.1717\n",
      "Epoch 34/100\n",
      "185/185 [==============================] - 12s 66ms/step - loss: 0.0124 - accuracy: 0.1720\n",
      "Epoch 35/100\n",
      "185/185 [==============================] - 12s 65ms/step - loss: 0.0116 - accuracy: 0.1723\n",
      "Epoch 36/100\n",
      "185/185 [==============================] - 12s 65ms/step - loss: 0.0108 - accuracy: 0.1725\n",
      "Epoch 37/100\n",
      "185/185 [==============================] - 12s 65ms/step - loss: 0.0102 - accuracy: 0.1727\n",
      "Epoch 38/100\n",
      "185/185 [==============================] - 12s 64ms/step - loss: 0.0092 - accuracy: 0.1729\n",
      "Epoch 39/100\n",
      "185/185 [==============================] - 12s 65ms/step - loss: 0.0088 - accuracy: 0.1729\n",
      "Epoch 40/100\n",
      "185/185 [==============================] - 12s 64ms/step - loss: 0.0087 - accuracy: 0.1730\n",
      "Epoch 41/100\n",
      "185/185 [==============================] - 12s 65ms/step - loss: 0.0082 - accuracy: 0.1731\n",
      "Epoch 42/100\n",
      "185/185 [==============================] - 12s 65ms/step - loss: 0.0078 - accuracy: 0.1733\n",
      "Epoch 43/100\n",
      "185/185 [==============================] - 12s 65ms/step - loss: 0.0073 - accuracy: 0.1733\n",
      "Epoch 44/100\n",
      "185/185 [==============================] - 12s 65ms/step - loss: 0.0070 - accuracy: 0.1735\n",
      "Epoch 45/100\n",
      "185/185 [==============================] - 12s 65ms/step - loss: 0.0069 - accuracy: 0.1734\n",
      "Epoch 46/100\n",
      "185/185 [==============================] - 12s 65ms/step - loss: 0.0063 - accuracy: 0.1736\n",
      "Epoch 47/100\n",
      "185/185 [==============================] - 12s 64ms/step - loss: 0.0066 - accuracy: 0.1735\n",
      "Epoch 48/100\n",
      "185/185 [==============================] - 12s 65ms/step - loss: 0.0063 - accuracy: 0.1736\n",
      "Epoch 49/100\n",
      "185/185 [==============================] - 12s 64ms/step - loss: 0.0058 - accuracy: 0.1737\n",
      "Epoch 50/100\n",
      "185/185 [==============================] - 12s 64ms/step - loss: 0.0056 - accuracy: 0.1738\n",
      "Epoch 51/100\n",
      "185/185 [==============================] - 12s 65ms/step - loss: 0.0055 - accuracy: 0.1737\n",
      "Epoch 52/100\n",
      "185/185 [==============================] - 12s 65ms/step - loss: 0.0050 - accuracy: 0.1739\n",
      "Epoch 53/100\n",
      "185/185 [==============================] - 12s 65ms/step - loss: 0.0052 - accuracy: 0.1738\n",
      "Epoch 54/100\n",
      "185/185 [==============================] - 12s 64ms/step - loss: 0.0049 - accuracy: 0.1739\n",
      "Epoch 55/100\n",
      "185/185 [==============================] - 12s 64ms/step - loss: 0.0048 - accuracy: 0.1740\n",
      "Epoch 56/100\n",
      "185/185 [==============================] - 12s 64ms/step - loss: 0.0048 - accuracy: 0.1740\n",
      "Epoch 57/100\n",
      "185/185 [==============================] - 12s 64ms/step - loss: 0.0048 - accuracy: 0.1739\n",
      "Epoch 58/100\n",
      "185/185 [==============================] - 12s 64ms/step - loss: 0.0042 - accuracy: 0.1740\n",
      "Epoch 59/100\n",
      "185/185 [==============================] - 12s 64ms/step - loss: 0.0044 - accuracy: 0.1740\n",
      "Epoch 60/100\n",
      "185/185 [==============================] - 12s 64ms/step - loss: 0.0041 - accuracy: 0.1741\n",
      "Epoch 61/100\n",
      "185/185 [==============================] - 12s 65ms/step - loss: 0.0043 - accuracy: 0.1741\n",
      "Epoch 62/100\n",
      "185/185 [==============================] - 12s 64ms/step - loss: 0.0041 - accuracy: 0.1741\n",
      "Epoch 63/100\n",
      "185/185 [==============================] - 12s 65ms/step - loss: 0.0038 - accuracy: 0.1742\n",
      "Epoch 64/100\n",
      "185/185 [==============================] - 12s 64ms/step - loss: 0.0037 - accuracy: 0.1742\n",
      "Epoch 65/100\n",
      "185/185 [==============================] - 12s 64ms/step - loss: 0.0039 - accuracy: 0.1741\n",
      "Epoch 66/100\n",
      "185/185 [==============================] - 12s 64ms/step - loss: 0.0038 - accuracy: 0.1741\n",
      "Epoch 67/100\n",
      "185/185 [==============================] - 12s 65ms/step - loss: 0.0035 - accuracy: 0.1742\n",
      "Epoch 68/100\n",
      "185/185 [==============================] - 12s 65ms/step - loss: 0.0033 - accuracy: 0.1743\n",
      "Epoch 69/100\n",
      "185/185 [==============================] - 12s 64ms/step - loss: 0.0033 - accuracy: 0.1743\n",
      "Epoch 70/100\n",
      "185/185 [==============================] - 12s 65ms/step - loss: 0.0031 - accuracy: 0.1743\n",
      "Epoch 71/100\n",
      "185/185 [==============================] - 12s 66ms/step - loss: 0.0030 - accuracy: 0.1743\n",
      "Epoch 72/100\n",
      "185/185 [==============================] - 12s 65ms/step - loss: 0.0033 - accuracy: 0.1742\n",
      "Epoch 73/100\n",
      "185/185 [==============================] - 12s 65ms/step - loss: 0.0031 - accuracy: 0.1743\n",
      "Epoch 74/100\n",
      "185/185 [==============================] - 12s 64ms/step - loss: 0.0028 - accuracy: 0.1743\n",
      "Epoch 75/100\n",
      "185/185 [==============================] - 12s 65ms/step - loss: 0.0030 - accuracy: 0.1743\n",
      "Epoch 76/100\n",
      "185/185 [==============================] - 12s 64ms/step - loss: 0.0031 - accuracy: 0.1742\n",
      "Epoch 77/100\n",
      "185/185 [==============================] - 12s 64ms/step - loss: 0.0029 - accuracy: 0.1743\n",
      "Epoch 78/100\n",
      "185/185 [==============================] - 12s 64ms/step - loss: 0.0028 - accuracy: 0.1743\n",
      "Epoch 79/100\n"
     ]
    },
    {
     "name": "stdout",
     "output_type": "stream",
     "text": [
      "185/185 [==============================] - 12s 64ms/step - loss: 0.0027 - accuracy: 0.1744\n",
      "Epoch 80/100\n",
      "185/185 [==============================] - 12s 64ms/step - loss: 0.0026 - accuracy: 0.1744\n",
      "Epoch 81/100\n",
      "185/185 [==============================] - 12s 64ms/step - loss: 0.0026 - accuracy: 0.1744\n",
      "Epoch 82/100\n",
      "185/185 [==============================] - 12s 64ms/step - loss: 0.0027 - accuracy: 0.1743\n",
      "Epoch 83/100\n",
      "185/185 [==============================] - 12s 64ms/step - loss: 0.0025 - accuracy: 0.1744\n",
      "Epoch 84/100\n",
      "185/185 [==============================] - 12s 64ms/step - loss: 0.0025 - accuracy: 0.1744\n",
      "Epoch 85/100\n",
      "185/185 [==============================] - 12s 64ms/step - loss: 0.0025 - accuracy: 0.1744\n",
      "Epoch 86/100\n",
      "185/185 [==============================] - 12s 65ms/step - loss: 0.0024 - accuracy: 0.1744\n",
      "Epoch 87/100\n",
      "185/185 [==============================] - 12s 65ms/step - loss: 0.0024 - accuracy: 0.1744\n",
      "Epoch 88/100\n",
      "185/185 [==============================] - 12s 64ms/step - loss: 0.0022 - accuracy: 0.1744\n",
      "Epoch 89/100\n",
      "185/185 [==============================] - 12s 64ms/step - loss: 0.0023 - accuracy: 0.1744\n",
      "Epoch 90/100\n",
      "185/185 [==============================] - 12s 64ms/step - loss: 0.0023 - accuracy: 0.1744\n",
      "Epoch 91/100\n",
      "185/185 [==============================] - 12s 64ms/step - loss: 0.0021 - accuracy: 0.1744\n",
      "Epoch 92/100\n",
      "185/185 [==============================] - 12s 65ms/step - loss: 0.0022 - accuracy: 0.1744\n",
      "Epoch 93/100\n",
      "185/185 [==============================] - 12s 65ms/step - loss: 0.0021 - accuracy: 0.1744\n",
      "Epoch 94/100\n",
      "185/185 [==============================] - 12s 64ms/step - loss: 0.0022 - accuracy: 0.1744\n",
      "Epoch 95/100\n",
      "185/185 [==============================] - 12s 64ms/step - loss: 0.0020 - accuracy: 0.1745\n",
      "Epoch 96/100\n",
      "185/185 [==============================] - 12s 64ms/step - loss: 0.0021 - accuracy: 0.1745\n",
      "Epoch 97/100\n",
      "185/185 [==============================] - 12s 64ms/step - loss: 0.0021 - accuracy: 0.1744\n",
      "Epoch 98/100\n",
      "185/185 [==============================] - 12s 65ms/step - loss: 0.0019 - accuracy: 0.1744\n",
      "Epoch 99/100\n",
      "185/185 [==============================] - 12s 64ms/step - loss: 0.0019 - accuracy: 0.1744\n",
      "Epoch 100/100\n",
      "185/185 [==============================] - 12s 64ms/step - loss: 0.0020 - accuracy: 0.1745\n"
     ]
    },
    {
     "data": {
      "text/plain": [
       "<keras.callbacks.History at 0x22f47c538c8>"
      ]
     },
     "execution_count": 23,
     "metadata": {},
     "output_type": "execute_result"
    }
   ],
   "source": [
    "EPOCHS = 100\n",
    "\n",
    "model.fit(dataset, epochs=EPOCHS)"
   ]
  },
  {
   "cell_type": "code",
   "execution_count": 24,
   "id": "86a7f5fb",
   "metadata": {},
   "outputs": [],
   "source": [
    "# 예측 시 전처리 수행\n",
    "def preprocess_sentence(sentence):\n",
    "    sentence = re.sub(r\"([?.!,])\", r\" \\1 \", sentence)\n",
    "    sentence = sentence.strip()\n",
    "    return sentence"
   ]
  },
  {
   "cell_type": "code",
   "execution_count": 25,
   "id": "5d92bccd",
   "metadata": {},
   "outputs": [],
   "source": [
    "def evaluate(sentence):\n",
    "    sentence = preprocess_sentence(sentence)\n",
    "    sentence = tf.expand_dims(START_TOKEN + tokenizer.encode(sentence) + END_TOKEN, axis=0)\n",
    "    output = tf.expand_dims(START_TOKEN, 0)\n",
    "    \n",
    "    # 디코더의 예측 시작\n",
    "    for i in range(MAX_LENGTH):\n",
    "        predictions = model(inputs=[sentence, output], training=False)\n",
    "        \n",
    "        # 현재(마지막) 시점의 예측 단어를 받아온다.\n",
    "        predictions = predictions[:, -1:, :]\n",
    "        predicted_id = tf.cast(tf.argmax(predictions, axis=-1), tf.int32)\n",
    "        \n",
    "        # 만약 마지막 시점의 예측 단어가 종료 토큰이라면 예측을 중단\n",
    "        if tf.equal(predicted_id, END_TOKEN[0]):\n",
    "            break\n",
    "            \n",
    "        output = tf.concat([output, predicted_id], axis=-1)\n",
    "\n",
    "    return tf.squeeze(output, axis=0)"
   ]
  },
  {
   "cell_type": "code",
   "execution_count": 26,
   "id": "7e3d3591",
   "metadata": {},
   "outputs": [],
   "source": [
    "def predict(sentence):\n",
    "    prediction = evaluate(sentence)\n",
    "    predicted_sentence = tokenizer.decode([i for i in prediction if i < tokenizer.vocab_size])\n",
    "    \n",
    "    print(\"\\n\")\n",
    "\n",
    "    print('답변: {}'.format(predicted_sentence))"
   ]
  },
  {
   "cell_type": "code",
   "execution_count": 28,
   "id": "fdc778f3",
   "metadata": {},
   "outputs": [
    {
     "name": "stdout",
     "output_type": "stream",
     "text": [
      "대화를 입력하세요~프로젝트 어려워..\n",
      "\n",
      "\n",
      "답변: 성공적으로 끝날 거예요 .\n"
     ]
    }
   ],
   "source": [
    "sen = input(\"대화를 입력하세요~\")\n",
    "predict(sen)"
   ]
  },
  {
   "cell_type": "code",
   "execution_count": 29,
   "id": "26e59ace",
   "metadata": {},
   "outputs": [
    {
     "name": "stdout",
     "output_type": "stream",
     "text": [
      "대화를 입력하세요~배고프다\n",
      "\n",
      "\n",
      "답변: 저도 밥 먹고 싶어요\n"
     ]
    }
   ],
   "source": [
    "sen = input(\"대화를 입력하세요~\")\n",
    "predict(sen)"
   ]
  },
  {
   "cell_type": "code",
   "execution_count": 30,
   "id": "1fe7e7b2",
   "metadata": {},
   "outputs": [
    {
     "name": "stdout",
     "output_type": "stream",
     "text": [
      "대화를 입력하세요~어쩔티비\n",
      "\n",
      "\n",
      "답변: 못 당해요 .  무시하세요 .\n"
     ]
    }
   ],
   "source": [
    "sen = input(\"대화를 입력하세요~\")\n",
    "predict(sen)"
   ]
  },
  {
   "cell_type": "code",
   "execution_count": 31,
   "id": "a7569dfa",
   "metadata": {},
   "outputs": [
    {
     "name": "stdout",
     "output_type": "stream",
     "text": [
      "대화를 입력하세요~노래 추천해줘\n",
      "\n",
      "\n",
      "답변: 좀 더 밝고 신나는 노래 들어보세요 .\n"
     ]
    }
   ],
   "source": [
    "sen = input(\"대화를 입력하세요~\")\n",
    "predict(sen)"
   ]
  },
  {
   "cell_type": "code",
   "execution_count": 32,
   "id": "e0829455",
   "metadata": {},
   "outputs": [
    {
     "name": "stdout",
     "output_type": "stream",
     "text": [
      "대화를 입력하세요~날씨가 너무 더워\n",
      "\n",
      "\n",
      "답변: 시원한 물이라도 한 잔 드세요~\n"
     ]
    }
   ],
   "source": [
    "sen = input(\"대화를 입력하세요~\")\n",
    "predict(sen)"
   ]
  }
 ],
 "metadata": {
  "kernelspec": {
   "display_name": "gpu-test",
   "language": "python",
   "name": "gpu-test"
  },
  "language_info": {
   "codemirror_mode": {
    "name": "ipython",
    "version": 3
   },
   "file_extension": ".py",
   "mimetype": "text/x-python",
   "name": "python",
   "nbconvert_exporter": "python",
   "pygments_lexer": "ipython3",
   "version": "3.7.13"
  }
 },
 "nbformat": 4,
 "nbformat_minor": 5
}
