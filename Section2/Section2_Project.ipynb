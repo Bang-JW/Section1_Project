{
 "cells": [
  {
   "cell_type": "markdown",
   "metadata": {},
   "source": [
    "# Credit Card Fraud Detection Model\n",
    "---------------------\n",
    " - 결제, 이체 등의 과정에서 발생하는 사기를 찾아내는 \"분류\" 모델입니다.\n",
    " - 해당 데이터셋에는 각 데이터별로 \"사기\"의 여부를 알려주는 지표가 있고, 이를 Target으로 설정하여 프로젝트를 진행합니다.\n",
    " - 사기인 경우의 수가 적기 때문에, 이 부분에서 예측모델을 만들 때 문제가 생길 것으로 예상됩니다."
   ]
  },
  {
   "cell_type": "markdown",
   "metadata": {},
   "source": [
    "# 데이터 선정이유\n",
    "\n",
    "- 현실을 잘 반영한 데이터입니다. 아래에서 살펴볼 수 있겠지만 실생활에서 사기는 잘 일어나지 않기 때문에 적은 경우를 가지고 예측 모델을 만들 수 있는 데이터라고 생각합니다.(클래스 불균형 문제)"
   ]
  },
  {
   "cell_type": "markdown",
   "metadata": {},
   "source": [
    "# 왜 필요할까?\n",
    "\n",
    "-  최근 많은 사람들이 모바일뱅킹, 인터넷뱅킹을 이용한다. 이에 따라서 모바일, 인터넷 환경에서 일어나는 결제, 이체 과정에서 사기는 늘어날 것으로 예상됩니다. \n",
    "- 이에 따라 결제, 이체 과정에서 사기를 탐지하는 것은 좀 더 \"안정적인 뱅킹 서비스\"를 제공하는 것에 도움이 된다고 생각합니다."
   ]
  },
  {
   "cell_type": "markdown",
   "metadata": {},
   "source": [
    "## Data Load"
   ]
  },
  {
   "cell_type": "code",
   "execution_count": 91,
   "metadata": {},
   "outputs": [],
   "source": [
    "import pandas as pd\n",
    "import numpy as np\n",
    "import seaborn as sns\n",
    "import matplotlib.pyplot as plt\n",
    "import joblib\n",
    "from category_encoders import OrdinalEncoder, TargetEncoder, QuantileEncoder, OneHotEncoder\n",
    "from sklearn.preprocessing import MinMaxScaler, StandardScaler, LabelEncoder\n",
    "from sklearn.pipeline import make_pipeline\n",
    "from sklearn.model_selection import train_test_split, RandomizedSearchCV, GridSearchCV\n",
    "from sklearn.linear_model import LogisticRegression\n",
    "from catboost import CatBoostClassifier\n",
    "from xgboost import XGBClassifier\n",
    "from sklearn.tree import DecisionTreeClassifier\n",
    "from sklearn.ensemble import RandomForestClassifier\n",
    "from sklearn.metrics import accuracy_score, classification_report, f1_score, roc_auc_score, roc_curve, confusion_matrix"
   ]
  },
  {
   "cell_type": "code",
   "execution_count": 2,
   "metadata": {},
   "outputs": [],
   "source": [
    "data = pd.read_csv('sec2_data.csv') "
   ]
  },
  {
   "cell_type": "markdown",
   "metadata": {},
   "source": [
    "## Data EDA"
   ]
  },
  {
   "cell_type": "code",
   "execution_count": 3,
   "metadata": {
    "scrolled": true
   },
   "outputs": [
    {
     "data": {
      "text/html": [
       "<div>\n",
       "<style scoped>\n",
       "    .dataframe tbody tr th:only-of-type {\n",
       "        vertical-align: middle;\n",
       "    }\n",
       "\n",
       "    .dataframe tbody tr th {\n",
       "        vertical-align: top;\n",
       "    }\n",
       "\n",
       "    .dataframe thead th {\n",
       "        text-align: right;\n",
       "    }\n",
       "</style>\n",
       "<table border=\"1\" class=\"dataframe\">\n",
       "  <thead>\n",
       "    <tr style=\"text-align: right;\">\n",
       "      <th></th>\n",
       "      <th>step</th>\n",
       "      <th>type</th>\n",
       "      <th>amount</th>\n",
       "      <th>nameOrig</th>\n",
       "      <th>oldbalanceOrg</th>\n",
       "      <th>newbalanceOrig</th>\n",
       "      <th>nameDest</th>\n",
       "      <th>oldbalanceDest</th>\n",
       "      <th>newbalanceDest</th>\n",
       "      <th>isFraud</th>\n",
       "      <th>isFlaggedFraud</th>\n",
       "    </tr>\n",
       "  </thead>\n",
       "  <tbody>\n",
       "    <tr>\n",
       "      <th>0</th>\n",
       "      <td>1</td>\n",
       "      <td>PAYMENT</td>\n",
       "      <td>9839.64</td>\n",
       "      <td>C1231006815</td>\n",
       "      <td>170136.0</td>\n",
       "      <td>160296.36</td>\n",
       "      <td>M1979787155</td>\n",
       "      <td>0.0</td>\n",
       "      <td>0.0</td>\n",
       "      <td>0</td>\n",
       "      <td>0</td>\n",
       "    </tr>\n",
       "    <tr>\n",
       "      <th>1</th>\n",
       "      <td>1</td>\n",
       "      <td>PAYMENT</td>\n",
       "      <td>1864.28</td>\n",
       "      <td>C1666544295</td>\n",
       "      <td>21249.0</td>\n",
       "      <td>19384.72</td>\n",
       "      <td>M2044282225</td>\n",
       "      <td>0.0</td>\n",
       "      <td>0.0</td>\n",
       "      <td>0</td>\n",
       "      <td>0</td>\n",
       "    </tr>\n",
       "    <tr>\n",
       "      <th>2</th>\n",
       "      <td>1</td>\n",
       "      <td>TRANSFER</td>\n",
       "      <td>181.00</td>\n",
       "      <td>C1305486145</td>\n",
       "      <td>181.0</td>\n",
       "      <td>0.00</td>\n",
       "      <td>C553264065</td>\n",
       "      <td>0.0</td>\n",
       "      <td>0.0</td>\n",
       "      <td>1</td>\n",
       "      <td>0</td>\n",
       "    </tr>\n",
       "    <tr>\n",
       "      <th>3</th>\n",
       "      <td>1</td>\n",
       "      <td>CASH_OUT</td>\n",
       "      <td>181.00</td>\n",
       "      <td>C840083671</td>\n",
       "      <td>181.0</td>\n",
       "      <td>0.00</td>\n",
       "      <td>C38997010</td>\n",
       "      <td>21182.0</td>\n",
       "      <td>0.0</td>\n",
       "      <td>1</td>\n",
       "      <td>0</td>\n",
       "    </tr>\n",
       "    <tr>\n",
       "      <th>4</th>\n",
       "      <td>1</td>\n",
       "      <td>PAYMENT</td>\n",
       "      <td>11668.14</td>\n",
       "      <td>C2048537720</td>\n",
       "      <td>41554.0</td>\n",
       "      <td>29885.86</td>\n",
       "      <td>M1230701703</td>\n",
       "      <td>0.0</td>\n",
       "      <td>0.0</td>\n",
       "      <td>0</td>\n",
       "      <td>0</td>\n",
       "    </tr>\n",
       "  </tbody>\n",
       "</table>\n",
       "</div>"
      ],
      "text/plain": [
       "   step      type    amount     nameOrig  oldbalanceOrg  newbalanceOrig  \\\n",
       "0     1   PAYMENT   9839.64  C1231006815       170136.0       160296.36   \n",
       "1     1   PAYMENT   1864.28  C1666544295        21249.0        19384.72   \n",
       "2     1  TRANSFER    181.00  C1305486145          181.0            0.00   \n",
       "3     1  CASH_OUT    181.00   C840083671          181.0            0.00   \n",
       "4     1   PAYMENT  11668.14  C2048537720        41554.0        29885.86   \n",
       "\n",
       "      nameDest  oldbalanceDest  newbalanceDest  isFraud  isFlaggedFraud  \n",
       "0  M1979787155             0.0             0.0        0               0  \n",
       "1  M2044282225             0.0             0.0        0               0  \n",
       "2   C553264065             0.0             0.0        1               0  \n",
       "3    C38997010         21182.0             0.0        1               0  \n",
       "4  M1230701703             0.0             0.0        0               0  "
      ]
     },
     "execution_count": 3,
     "metadata": {},
     "output_type": "execute_result"
    }
   ],
   "source": [
    "data.head(5)"
   ]
  },
  {
   "cell_type": "code",
   "execution_count": 4,
   "metadata": {},
   "outputs": [
    {
     "data": {
      "text/plain": [
       "step              0\n",
       "type              0\n",
       "amount            0\n",
       "nameOrig          0\n",
       "oldbalanceOrg     0\n",
       "newbalanceOrig    0\n",
       "nameDest          0\n",
       "oldbalanceDest    0\n",
       "newbalanceDest    0\n",
       "isFraud           0\n",
       "isFlaggedFraud    0\n",
       "dtype: int64"
      ]
     },
     "execution_count": 4,
     "metadata": {},
     "output_type": "execute_result"
    }
   ],
   "source": [
    "# 현재 데이터에는 결측치가 없습니다.\n",
    "data.isnull().sum()"
   ]
  },
  {
   "cell_type": "code",
   "execution_count": 5,
   "metadata": {},
   "outputs": [],
   "source": [
    "# isFlaggedFraud -> isFraud와 비슷한 성격을 가지고 있어 Data Leakage의 우려가 있어 제거하고\n",
    "# 프로젝트를 진행합니다.\n",
    "# nameOrig, nameDest -> 이 두 Column은 이름과 비슷한 것이여서 drop후 model을 만드려고 합니다.\n",
    "data = data.drop(['isFlaggedFraud', 'nameOrig', 'nameDest'], axis = 1)"
   ]
  },
  {
   "cell_type": "code",
   "execution_count": 6,
   "metadata": {
    "scrolled": false
   },
   "outputs": [
    {
     "data": {
      "text/plain": [
       "([<matplotlib.patches.Wedge at 0x228b62d15b0>,\n",
       "  <matplotlib.patches.Wedge at 0x228b62d1d00>,\n",
       "  <matplotlib.patches.Wedge at 0x228b6339460>,\n",
       "  <matplotlib.patches.Wedge at 0x228b6339b80>,\n",
       "  <matplotlib.patches.Wedge at 0x228b63452e0>],\n",
       " [Text(0.49426122663384003, 0.9827033325711335, 'PAYMENT'),\n",
       "  Text(-1.0906766219942048, -0.1429143318051433, 'TRANSFER'),\n",
       "  Text(0.3384112332518691, -1.046650771369777, 'CASH_OUT'),\n",
       "  Text(1.0495474656709025, -0.3293176541028222, 'DEBIT'),\n",
       "  Text(1.0997698357971, -0.022501294869852733, 'CASH_IN')],\n",
       " [Text(0.26959703270936725, 0.5360199995842546, '35.17'),\n",
       "  Text(-0.594914521087748, -0.07795327189371452, '33.81'),\n",
       "  Text(0.1845879454101104, -0.5709004207471511, '21.99'),\n",
       "  Text(0.5724804358204921, -0.17962781132881211, '8.38'),\n",
       "  Text(0.5998744558893272, -0.012273433565374218, '0.65')])"
      ]
     },
     "execution_count": 6,
     "metadata": {},
     "output_type": "execute_result"
    },
    {
     "data": {
      "image/png": "[encoded data removed]",
      "text/plain": [
       "<Figure size 432x288 with 1 Axes>"
      ]
     },
     "metadata": {},
     "output_type": "display_data"
    }
   ],
   "source": [
    "# Type의 분포에 대해 살펴보았습니다\n",
    "plt.pie(data['type'].value_counts(normalize=True), labels = data['type'].unique(), autopct = '%.2f')"
   ]
  },
  {
   "cell_type": "code",
   "execution_count": 90,
   "metadata": {
    "scrolled": true
   },
   "outputs": [
    {
     "data": {
      "text/plain": [
       "([<matplotlib.patches.Wedge at 0x22951c43f40>,\n",
       "  <matplotlib.patches.Wedge at 0x22927b54790>],\n",
       " [Text(-1.099990955625572, 0.004460666087110192, 'Not Fraud'),\n",
       "  Text(1.0999909559371663, -0.004460589247970448, 'Fruad')],\n",
       " [Text(-0.5999950667048575, 0.002433090592969195, '99.87'),\n",
       "  Text(0.599995066874818, -0.002433048680711153, '0.13')])"
      ]
     },
     "execution_count": 90,
     "metadata": {},
     "output_type": "execute_result"
    },
    {
     "data": {
      "image/png": "[encoded data removed]",
      "text/plain": [
       "<Figure size 432x288 with 1 Axes>"
      ]
     },
     "metadata": {},
     "output_type": "display_data"
    }
   ],
   "source": [
    "# Target의 분포를 살펴보면 'Not Fraud' 99.9% 'Fraud' 0.1% 로 불균형 상태이다.\n",
    "\n",
    "plt.pie(data['isFraud'].value_counts(normalize = True), labels = ['Not Fraud', 'Fruad'], autopct='%.2f')"
   ]
  },
  {
   "cell_type": "code",
   "execution_count": 8,
   "metadata": {
    "scrolled": false
   },
   "outputs": [
    {
     "data": {
      "text/plain": [
       "([<matplotlib.patches.Wedge at 0x228cf0b9f40>,\n",
       "  <matplotlib.patches.Wedge at 0x228cf0b90a0>],\n",
       " [Text(-1.0999816304840733, 0.006357090340696732, ''),\n",
       "  Text(1.0999816299842, -0.006357176834284399, '')],\n",
       " [Text(-0.5999899802640399, 0.0034675038221982173, '99.82'),\n",
       "  Text(0.5999899799913818, -0.0034675510005187627, '0.18')])"
      ]
     },
     "execution_count": 8,
     "metadata": {},
     "output_type": "execute_result"
    },
    {
     "data": {
      "image/png": "[encoded data removed]",
      "text/plain": [
       "<Figure size 720x720 with 4 Axes>"
      ]
     },
     "metadata": {},
     "output_type": "display_data"
    }
   ],
   "source": [
    "# type 별로 target의 분포\n",
    "plt.figure(figsize=(10,10))\n",
    "\n",
    "plt.subplot(2,2,1)\n",
    "plt.title('transfer')\n",
    "\n",
    "plt.pie(data[data['type'] == 'TRANSFER']['isFraud'].value_counts(),  autopct='%.2f')\n",
    "\n",
    "plt.subplot(2,2,2)\n",
    "plt.title('payment')\n",
    "plt.pie(data[data['type'] == 'PAYMENT']['isFraud'].value_counts(), autopct='%.2f')\n",
    "\n",
    "\n",
    "plt.subplot(2,2,3)\n",
    "plt.title('cash_in')\n",
    "plt.pie(data[data['type'] == 'CASH_IN']['isFraud'].value_counts(), autopct='%.2f')\n",
    "\n",
    "plt.subplot(2,2,4)\n",
    "plt.title('cash_out')\n",
    "plt.pie(data[data['type'] == 'CASH_OUT']['isFraud'].value_counts(), autopct='%.2f')"
   ]
  },
  {
   "cell_type": "markdown",
   "metadata": {},
   "source": [
    "결제 유형별로 target의 분포를 살펴보면 paymet와 cash_in 에서 사기인 경우는 없는 것으로 나타났습니다."
   ]
  },
  {
   "cell_type": "markdown",
   "metadata": {},
   "source": [
    "## Data Preprocessing"
   ]
  },
  {
   "cell_type": "markdown",
   "metadata": {},
   "source": [
    "먼저 학습, 검증, 테스트에 쓰일 데이터를 나누어 줍니다."
   ]
  },
  {
   "cell_type": "code",
   "execution_count": 9,
   "metadata": {},
   "outputs": [
    {
     "name": "stdout",
     "output_type": "stream",
     "text": [
      "(4072076, 7) (1018020, 7) (1272524, 7)\n",
      "(4072076,) (1018020,) (1272524,)\n"
     ]
    }
   ],
   "source": [
    "# train, val, test data로 Split\n",
    "\n",
    "X = data[data.columns[:-1]]\n",
    "y = data[data.columns[-1]]\n",
    "\n",
    "X_train, X_test, y_train, y_test = train_test_split(X, y, test_size = 0.2, random_state = 42)\n",
    "X_train, X_val, y_train, y_val = train_test_split(X_train, y_train, test_size = 0.2, random_state = 42)\n",
    "\n",
    "print(X_train.shape, X_val.shape, X_test.shape)\n",
    "print(y_train.shape, y_val.shape, y_test.shape)"
   ]
  },
  {
   "cell_type": "code",
   "execution_count": 10,
   "metadata": {},
   "outputs": [],
   "source": [
    "# 결제 유형은 현재 object로 되어있기 때문에 labelencoder로 숫자형태로 바꾸어 줍니다.\n",
    "labelencoder = LabelEncoder()\n",
    "X_train['type'] = labelencoder.fit_transform(X_train['type'])"
   ]
  },
  {
   "cell_type": "code",
   "execution_count": 145,
   "metadata": {},
   "outputs": [
    {
     "data": {
      "text/plain": [
       "0    4066765\n",
       "1    4066765\n",
       "Name: isFraud, dtype: int64"
      ]
     },
     "execution_count": 145,
     "metadata": {},
     "output_type": "execute_result"
    }
   ],
   "source": [
    "# Target의 불균형을 해소하고자, OverSampling 진행\n",
    "from imblearn.over_sampling import SMOTE\n",
    "\n",
    "smote = SMOTE(random_state = 42)\n",
    "X_train_over, y_train_over = smote.fit_resample(X_train, y_train)\n",
    "\n",
    "# smote를 적용한 후 target의 분포를 살펴보겠습니다.\n",
    "y_train_over.value_counts()"
   ]
  },
  {
   "cell_type": "code",
   "execution_count": 95,
   "metadata": {},
   "outputs": [],
   "source": [
    "# val, test set에 encoding 적용\n",
    "X_val['type'] = labelencoder.transform(X_val['type'])\n",
    "X_test['type'] = labelencoder.transform(X_test['type'])"
   ]
  },
  {
   "cell_type": "markdown",
   "metadata": {},
   "source": [
    "## Logistic Regression (BaseLine Model)"
   ]
  },
  {
   "cell_type": "markdown",
   "metadata": {},
   "source": [
    "- 분류 모델에서는 보통 최빈값을 기준모델로 설정\n",
    "- 그러나, 이 데이터셋의 경우에서는 데이터 불균형이 너무심하기 때문에 가장 간단한 분류모델인 Logistic Regression으로 설정\n",
    "- 또한, 현재 target이 0으로 몰려 있는 상태에서 모델을 모두 0으로 예측하면 높은 정확도(Accuracy)\n",
    "- 즉, 정확도(Accuracy)는 적절한 평가지표가 될 수 없음\n",
    "- 따라서, 이 프로젝트에서는 정밀도(Precision), 재현율(Recall) 등을 평가지표로 사용"
   ]
  },
  {
   "cell_type": "code",
   "execution_count": 97,
   "metadata": {
    "scrolled": true
   },
   "outputs": [
    {
     "data": {
      "text/plain": [
       "LogisticRegression()"
      ]
     },
     "execution_count": 97,
     "metadata": {},
     "output_type": "execute_result"
    }
   ],
   "source": [
    "logregression = LogisticRegression()\n",
    "logregression.fit(X_train_over, y_train_over)"
   ]
  },
  {
   "cell_type": "markdown",
   "metadata": {},
   "source": [
    "아래의 결과에서 좀 더 중요하게 생각해야 하는 지표는 재현율(recall) 입니다.\n",
    " - 실제 사기인 것 중 올바르게 사기라고 맞춘 것의 비율이 재현율입니다.\n",
    " - 사기인경우를 사기가 아니라고 판단하게 되면 문제가 발생할 수 있기 때문입니다."
   ]
  },
  {
   "cell_type": "code",
   "execution_count": 105,
   "metadata": {},
   "outputs": [
    {
     "name": "stdout",
     "output_type": "stream",
     "text": [
      "[[501849 514889]\n",
      " [   100   1182]]\n",
      "              precision    recall  f1-score   support\n",
      "\n",
      "           0       1.00      0.92      0.96   1270904\n",
      "           1       0.01      0.89      0.03      1620\n",
      "\n",
      "    accuracy                           0.92   1272524\n",
      "   macro avg       0.51      0.90      0.49   1272524\n",
      "weighted avg       1.00      0.92      0.95   1272524\n",
      "\n"
     ]
    }
   ],
   "source": [
    "logreg_y_val_pred = logregression.predict(X_val)\n",
    "\n",
    "#validation set에 대한 confusion matrix와 classification report를 출력합니다.\n",
    "print(confusion_matrix(y_val, logreg_y_val_pred))\n",
    "print(classification_report(y_test, logreg_y_pred))"
   ]
  },
  {
   "cell_type": "markdown",
   "metadata": {},
   "source": [
    "## Decision Tree"
   ]
  },
  {
   "cell_type": "code",
   "execution_count": 56,
   "metadata": {
    "scrolled": true
   },
   "outputs": [
    {
     "data": {
      "text/plain": [
       "GridSearchCV(cv=5, estimator=DecisionTreeClassifier(max_depth=50),\n",
       "             param_grid={'max_depth': [50, 100, 150]}, scoring='f1')"
      ]
     },
     "execution_count": 56,
     "metadata": {},
     "output_type": "execute_result"
    }
   ],
   "source": [
    "# Grid Search\n",
    "\n",
    "hyperparameter = {\n",
    "    'max_depth' : [50,100,150]\n",
    "}\n",
    "\n",
    "gridsearch = GridSearchCV(\n",
    "    dt_classifier,\n",
    "    param_grid = hyperparameter,\n",
    "    cv = 3,\n",
    "    scoring='f1',\n",
    "    refit = True\n",
    "    )\n",
    "\n",
    "gridsearch.fit(X_train_over, y_train_over)"
   ]
  },
  {
   "cell_type": "code",
   "execution_count": 106,
   "metadata": {
    "scrolled": true
   },
   "outputs": [
    {
     "data": {
      "text/plain": [
       "DecisionTreeClassifier(max_depth=50)"
      ]
     },
     "execution_count": 106,
     "metadata": {},
     "output_type": "execute_result"
    }
   ],
   "source": [
    "dt_classifier = DecisionTreeClassifier(max_depth = 50)\n",
    "\n",
    "dt_classifier.fit(X_train_over, y_train_over)"
   ]
  },
  {
   "cell_type": "code",
   "execution_count": 108,
   "metadata": {
    "scrolled": true
   },
   "outputs": [
    {
     "name": "stdout",
     "output_type": "stream",
     "text": [
      "[[1016257     481]\n",
      " [     45    1237]]\n",
      "              precision    recall  f1-score   support\n",
      "\n",
      "           0       1.00      1.00      1.00   1016738\n",
      "           1       0.72      0.96      0.82      1282\n",
      "\n",
      "    accuracy                           1.00   1018020\n",
      "   macro avg       0.86      0.98      0.91   1018020\n",
      "weighted avg       1.00      1.00      1.00   1018020\n",
      "\n"
     ]
    }
   ],
   "source": [
    "dt_y_val_pred = dt_classifier.predict(X_val)\n",
    "\n",
    "#validation set에 대한 confusion matrix와 classification report를 출력합니다.\n",
    "print(confusion_matrix(y_val,dt_y_val_pred))\n",
    "print(classification_report(y_val, dt_y_val_pred))"
   ]
  },
  {
   "cell_type": "code",
   "execution_count": 112,
   "metadata": {},
   "outputs": [
    {
     "data": {
      "text/plain": [
       "['dt_classifier.pkl']"
      ]
     },
     "execution_count": 112,
     "metadata": {},
     "output_type": "execute_result"
    }
   ],
   "source": [
    "# pickle 파일로 저장(모델의 결과를 불러와 바로 사용할 수 있음)\n",
    "joblib.dump(dt_classifier, 'dt_classifier.pkl')"
   ]
  },
  {
   "cell_type": "code",
   "execution_count": 109,
   "metadata": {
    "scrolled": true
   },
   "outputs": [
    {
     "data": {
      "text/plain": [
       "<AxesSubplot:>"
      ]
     },
     "execution_count": 109,
     "metadata": {},
     "output_type": "execute_result"
    },
    {
     "data": {
      "image/png": "[encoded data removed]",
      "text/plain": [
       "<Figure size 432x288 with 1 Axes>"
      ]
     },
     "metadata": {
      "needs_background": "light"
     },
     "output_type": "display_data"
    }
   ],
   "source": [
    "importances = pd.DataFrame(dt_classifier.feature_importances_, X_train.columns, \n",
    "                           columns=['Feature_importance'])\n",
    "importances.sort_values(by = 'Feature_importance').plot.barh()"
   ]
  },
  {
   "cell_type": "markdown",
   "metadata": {},
   "source": [
    "## XGBoost Classifier"
   ]
  },
  {
   "cell_type": "code",
   "execution_count": 133,
   "metadata": {},
   "outputs": [
    {
     "data": {
      "text/plain": [
       "XGBClassifier(base_score=0.5, booster='gbtree', callbacks=None,\n",
       "              colsample_bylevel=1, colsample_bynode=1, colsample_bytree=1,\n",
       "              early_stopping_rounds=None, enable_categorical=False,\n",
       "              eval_metric=None, gamma=0, gpu_id=-1, grow_policy='depthwise',\n",
       "              importance_type=None, interaction_constraints='',\n",
       "              learning_rate=0.300000012, max_bin=256, max_cat_to_onehot=4,\n",
       "              max_delta_step=0, max_depth=6, max_leaves=0, min_child_weight=1,\n",
       "              missing=nan, monotone_constraints='()', n_estimators=100,\n",
       "              n_jobs=0, num_parallel_tree=1, predictor='auto', random_state=0,\n",
       "              reg_alpha=0, reg_lambda=1, ...)"
      ]
     },
     "execution_count": 133,
     "metadata": {},
     "output_type": "execute_result"
    }
   ],
   "source": [
    "xgb_classifier = XGBClassifier()\n",
    "xgb_classifier.fit(X_train_over, y_train_over)"
   ]
  },
  {
   "cell_type": "code",
   "execution_count": 134,
   "metadata": {},
   "outputs": [
    {
     "name": "stdout",
     "output_type": "stream",
     "text": [
      "[[345271 671467]\n",
      " [   141   1141]]\n",
      "              precision    recall  f1-score   support\n",
      "\n",
      "           0       1.00      1.00      1.00   1270904\n",
      "           1       0.43      0.99      0.60      1620\n",
      "\n",
      "    accuracy                           1.00   1272524\n",
      "   macro avg       0.71      0.99      0.80   1272524\n",
      "weighted avg       1.00      1.00      1.00   1272524\n",
      "\n"
     ]
    }
   ],
   "source": [
    "xgb_y_val_pred = xgb_model.predict(X_val)\n",
    "\n",
    "#Confusion Matrix\n",
    "print(confusion_matrix(y_val, xgb_y_val_pred))\n",
    "#Classification Report\n",
    "print(classification_report(y_val, xgb_y_val_pred))"
   ]
  },
  {
   "cell_type": "code",
   "execution_count": 135,
   "metadata": {
    "scrolled": true
   },
   "outputs": [
    {
     "data": {
      "text/plain": [
       "<AxesSubplot:>"
      ]
     },
     "execution_count": 135,
     "metadata": {},
     "output_type": "execute_result"
    },
    {
     "data": {
      "image/png": "[encoded data removed]",
      "text/plain": [
       "<Figure size 432x288 with 1 Axes>"
      ]
     },
     "metadata": {
      "needs_background": "light"
     },
     "output_type": "display_data"
    }
   ],
   "source": [
    "importances = pd.DataFrame(xgb_model.feature_importances_, X_train.columns, \n",
    "                           columns=['Feature_importance'])\n",
    "importances.sort_values(by = 'Feature_importance').plot.barh()"
   ]
  },
  {
   "cell_type": "code",
   "execution_count": 116,
   "metadata": {},
   "outputs": [
    {
     "data": {
      "text/plain": [
       "['xgb_classifier.pkl']"
      ]
     },
     "execution_count": 116,
     "metadata": {},
     "output_type": "execute_result"
    }
   ],
   "source": [
    "joblib.dump(xgb_classifier, 'xgb_classifier.pkl')"
   ]
  },
  {
   "cell_type": "markdown",
   "metadata": {},
   "source": [
    "## CatBoost Classifier"
   ]
  },
  {
   "cell_type": "code",
   "execution_count": 117,
   "metadata": {},
   "outputs": [],
   "source": [
    "catboost_classifier = CatBoostClassifier(iterations=200,\n",
    "                              random_state = 42,\n",
    "                             learning_rate = 0.02,\n",
    "                             early_stopping_rounds=20,                             \n",
    "                             task_type='GPU')"
   ]
  },
  {
   "cell_type": "code",
   "execution_count": 129,
   "metadata": {
    "collapsed": true
   },
   "outputs": [
    {
     "name": "stdout",
     "output_type": "stream",
     "text": [
      "0:\tlearn: 0.6336313\ttotal: 66.9ms\tremaining: 13.3s\n",
      "1:\tlearn: 0.5801439\ttotal: 134ms\tremaining: 13.2s\n",
      "2:\tlearn: 0.5322407\ttotal: 199ms\tremaining: 13.1s\n",
      "3:\tlearn: 0.4884235\ttotal: 266ms\tremaining: 13s\n",
      "4:\tlearn: 0.4516043\ttotal: 327ms\tremaining: 12.8s\n",
      "5:\tlearn: 0.4188208\ttotal: 390ms\tremaining: 12.6s\n",
      "6:\tlearn: 0.3877835\ttotal: 452ms\tremaining: 12.5s\n",
      "7:\tlearn: 0.3591307\ttotal: 518ms\tremaining: 12.4s\n",
      "8:\tlearn: 0.3336956\ttotal: 584ms\tremaining: 12.4s\n",
      "9:\tlearn: 0.3108558\ttotal: 650ms\tremaining: 12.4s\n",
      "10:\tlearn: 0.2907181\ttotal: 713ms\tremaining: 12.3s\n",
      "11:\tlearn: 0.2758639\ttotal: 774ms\tremaining: 12.1s\n",
      "12:\tlearn: 0.2600305\ttotal: 837ms\tremaining: 12s\n",
      "13:\tlearn: 0.2458114\ttotal: 898ms\tremaining: 11.9s\n",
      "14:\tlearn: 0.2322760\ttotal: 961ms\tremaining: 11.9s\n",
      "15:\tlearn: 0.2216944\ttotal: 1.02s\tremaining: 11.8s\n",
      "16:\tlearn: 0.2110050\ttotal: 1.09s\tremaining: 11.7s\n",
      "17:\tlearn: 0.2021974\ttotal: 1.16s\tremaining: 11.7s\n",
      "18:\tlearn: 0.1939368\ttotal: 1.22s\tremaining: 11.7s\n",
      "19:\tlearn: 0.1864544\ttotal: 1.29s\tremaining: 11.6s\n",
      "20:\tlearn: 0.1795888\ttotal: 1.35s\tremaining: 11.5s\n",
      "21:\tlearn: 0.1733696\ttotal: 1.42s\tremaining: 11.5s\n",
      "22:\tlearn: 0.1668422\ttotal: 1.49s\tremaining: 11.4s\n",
      "23:\tlearn: 0.1615424\ttotal: 1.55s\tremaining: 11.4s\n",
      "24:\tlearn: 0.1559796\ttotal: 1.62s\tremaining: 11.3s\n",
      "25:\tlearn: 0.1504260\ttotal: 1.69s\tremaining: 11.3s\n",
      "26:\tlearn: 0.1448403\ttotal: 1.75s\tremaining: 11.2s\n",
      "27:\tlearn: 0.1407312\ttotal: 1.81s\tremaining: 11.2s\n",
      "28:\tlearn: 0.1369702\ttotal: 1.88s\tremaining: 11.1s\n",
      "29:\tlearn: 0.1322307\ttotal: 1.95s\tremaining: 11s\n",
      "30:\tlearn: 0.1288766\ttotal: 2.02s\tremaining: 11s\n",
      "31:\tlearn: 0.1247397\ttotal: 2.08s\tremaining: 10.9s\n",
      "32:\tlearn: 0.1220764\ttotal: 2.15s\tremaining: 10.9s\n",
      "33:\tlearn: 0.1186727\ttotal: 2.22s\tremaining: 10.8s\n",
      "34:\tlearn: 0.1163426\ttotal: 2.28s\tremaining: 10.8s\n",
      "35:\tlearn: 0.1133758\ttotal: 2.35s\tremaining: 10.7s\n",
      "36:\tlearn: 0.1107980\ttotal: 2.42s\tremaining: 10.7s\n",
      "37:\tlearn: 0.1081674\ttotal: 2.48s\tremaining: 10.6s\n",
      "38:\tlearn: 0.1061725\ttotal: 2.55s\tremaining: 10.5s\n",
      "39:\tlearn: 0.1037829\ttotal: 2.62s\tremaining: 10.5s\n",
      "40:\tlearn: 0.1011540\ttotal: 2.69s\tremaining: 10.4s\n",
      "41:\tlearn: 0.0990936\ttotal: 2.75s\tremaining: 10.4s\n",
      "42:\tlearn: 0.0972162\ttotal: 2.81s\tremaining: 10.3s\n",
      "43:\tlearn: 0.0956708\ttotal: 2.88s\tremaining: 10.2s\n",
      "44:\tlearn: 0.0940300\ttotal: 2.94s\tremaining: 10.1s\n",
      "45:\tlearn: 0.0923133\ttotal: 3s\tremaining: 10s\n",
      "46:\tlearn: 0.0903707\ttotal: 3.06s\tremaining: 9.97s\n",
      "47:\tlearn: 0.0881273\ttotal: 3.13s\tremaining: 9.91s\n",
      "48:\tlearn: 0.0870175\ttotal: 3.19s\tremaining: 9.84s\n",
      "49:\tlearn: 0.0854849\ttotal: 3.26s\tremaining: 9.78s\n",
      "50:\tlearn: 0.0844123\ttotal: 3.32s\tremaining: 9.71s\n",
      "51:\tlearn: 0.0830762\ttotal: 3.39s\tremaining: 9.65s\n",
      "52:\tlearn: 0.0820780\ttotal: 3.46s\tremaining: 9.58s\n",
      "53:\tlearn: 0.0805098\ttotal: 3.52s\tremaining: 9.52s\n",
      "54:\tlearn: 0.0796139\ttotal: 3.59s\tremaining: 9.45s\n",
      "55:\tlearn: 0.0786615\ttotal: 3.65s\tremaining: 9.39s\n",
      "56:\tlearn: 0.0775196\ttotal: 3.72s\tremaining: 9.32s\n",
      "57:\tlearn: 0.0762707\ttotal: 3.78s\tremaining: 9.26s\n",
      "58:\tlearn: 0.0752371\ttotal: 3.85s\tremaining: 9.2s\n",
      "59:\tlearn: 0.0741240\ttotal: 3.92s\tremaining: 9.14s\n",
      "60:\tlearn: 0.0729796\ttotal: 3.98s\tremaining: 9.07s\n",
      "61:\tlearn: 0.0717345\ttotal: 4.05s\tremaining: 9.01s\n",
      "62:\tlearn: 0.0709367\ttotal: 4.12s\tremaining: 8.95s\n",
      "63:\tlearn: 0.0702830\ttotal: 4.18s\tremaining: 8.88s\n",
      "64:\tlearn: 0.0692050\ttotal: 4.25s\tremaining: 8.83s\n",
      "65:\tlearn: 0.0681836\ttotal: 4.32s\tremaining: 8.77s\n",
      "66:\tlearn: 0.0677899\ttotal: 4.38s\tremaining: 8.7s\n",
      "67:\tlearn: 0.0668841\ttotal: 4.45s\tremaining: 8.64s\n",
      "68:\tlearn: 0.0657968\ttotal: 4.52s\tremaining: 8.58s\n",
      "69:\tlearn: 0.0652812\ttotal: 4.58s\tremaining: 8.51s\n",
      "70:\tlearn: 0.0643682\ttotal: 4.65s\tremaining: 8.45s\n",
      "71:\tlearn: 0.0636067\ttotal: 4.72s\tremaining: 8.39s\n",
      "72:\tlearn: 0.0629510\ttotal: 4.78s\tremaining: 8.31s\n",
      "73:\tlearn: 0.0623572\ttotal: 4.84s\tremaining: 8.24s\n",
      "74:\tlearn: 0.0616909\ttotal: 4.9s\tremaining: 8.17s\n",
      "75:\tlearn: 0.0609721\ttotal: 4.96s\tremaining: 8.1s\n",
      "76:\tlearn: 0.0604941\ttotal: 5.03s\tremaining: 8.03s\n",
      "77:\tlearn: 0.0598735\ttotal: 5.09s\tremaining: 7.96s\n",
      "78:\tlearn: 0.0592328\ttotal: 5.16s\tremaining: 7.9s\n",
      "79:\tlearn: 0.0586714\ttotal: 5.22s\tremaining: 7.83s\n",
      "80:\tlearn: 0.0581897\ttotal: 5.28s\tremaining: 7.76s\n",
      "81:\tlearn: 0.0576162\ttotal: 5.35s\tremaining: 7.69s\n",
      "82:\tlearn: 0.0569955\ttotal: 5.41s\tremaining: 7.63s\n",
      "83:\tlearn: 0.0565829\ttotal: 5.47s\tremaining: 7.56s\n",
      "84:\tlearn: 0.0561688\ttotal: 5.54s\tremaining: 7.5s\n",
      "85:\tlearn: 0.0556534\ttotal: 5.61s\tremaining: 7.43s\n",
      "86:\tlearn: 0.0553489\ttotal: 5.68s\tremaining: 7.37s\n",
      "87:\tlearn: 0.0547929\ttotal: 5.74s\tremaining: 7.31s\n",
      "88:\tlearn: 0.0544321\ttotal: 5.81s\tremaining: 7.24s\n",
      "89:\tlearn: 0.0539801\ttotal: 5.87s\tremaining: 7.18s\n",
      "90:\tlearn: 0.0535395\ttotal: 5.94s\tremaining: 7.11s\n",
      "91:\tlearn: 0.0530594\ttotal: 6.01s\tremaining: 7.05s\n",
      "92:\tlearn: 0.0527674\ttotal: 6.07s\tremaining: 6.98s\n",
      "93:\tlearn: 0.0523049\ttotal: 6.14s\tremaining: 6.92s\n",
      "94:\tlearn: 0.0520377\ttotal: 6.2s\tremaining: 6.86s\n",
      "95:\tlearn: 0.0515508\ttotal: 6.27s\tremaining: 6.79s\n",
      "96:\tlearn: 0.0513039\ttotal: 6.33s\tremaining: 6.72s\n",
      "97:\tlearn: 0.0510685\ttotal: 6.39s\tremaining: 6.65s\n",
      "98:\tlearn: 0.0506893\ttotal: 6.46s\tremaining: 6.59s\n",
      "99:\tlearn: 0.0503640\ttotal: 6.52s\tremaining: 6.52s\n",
      "100:\tlearn: 0.0501504\ttotal: 6.58s\tremaining: 6.45s\n",
      "101:\tlearn: 0.0498038\ttotal: 6.65s\tremaining: 6.39s\n",
      "102:\tlearn: 0.0493819\ttotal: 6.72s\tremaining: 6.33s\n",
      "103:\tlearn: 0.0491860\ttotal: 6.78s\tremaining: 6.26s\n",
      "104:\tlearn: 0.0490066\ttotal: 6.85s\tremaining: 6.19s\n",
      "105:\tlearn: 0.0485566\ttotal: 6.91s\tremaining: 6.13s\n",
      "106:\tlearn: 0.0483857\ttotal: 6.97s\tremaining: 6.06s\n",
      "107:\tlearn: 0.0479278\ttotal: 7.04s\tremaining: 6s\n",
      "108:\tlearn: 0.0477697\ttotal: 7.1s\tremaining: 5.93s\n",
      "109:\tlearn: 0.0475031\ttotal: 7.17s\tremaining: 5.87s\n",
      "110:\tlearn: 0.0473583\ttotal: 7.23s\tremaining: 5.8s\n",
      "111:\tlearn: 0.0471055\ttotal: 7.3s\tremaining: 5.74s\n",
      "112:\tlearn: 0.0469674\ttotal: 7.36s\tremaining: 5.67s\n",
      "113:\tlearn: 0.0467278\ttotal: 7.43s\tremaining: 5.61s\n",
      "114:\tlearn: 0.0465022\ttotal: 7.5s\tremaining: 5.54s\n",
      "115:\tlearn: 0.0463119\ttotal: 7.57s\tremaining: 5.48s\n",
      "116:\tlearn: 0.0461304\ttotal: 7.63s\tremaining: 5.41s\n",
      "117:\tlearn: 0.0458578\ttotal: 7.7s\tremaining: 5.35s\n",
      "118:\tlearn: 0.0454988\ttotal: 7.76s\tremaining: 5.29s\n",
      "119:\tlearn: 0.0453765\ttotal: 7.83s\tremaining: 5.22s\n",
      "120:\tlearn: 0.0451222\ttotal: 7.9s\tremaining: 5.16s\n",
      "121:\tlearn: 0.0448274\ttotal: 7.96s\tremaining: 5.09s\n",
      "122:\tlearn: 0.0444960\ttotal: 8.02s\tremaining: 5.02s\n",
      "123:\tlearn: 0.0441787\ttotal: 8.09s\tremaining: 4.96s\n",
      "124:\tlearn: 0.0438605\ttotal: 8.15s\tremaining: 4.89s\n",
      "125:\tlearn: 0.0435938\ttotal: 8.22s\tremaining: 4.83s\n",
      "126:\tlearn: 0.0434549\ttotal: 8.28s\tremaining: 4.76s\n",
      "127:\tlearn: 0.0432566\ttotal: 8.36s\tremaining: 4.7s\n",
      "128:\tlearn: 0.0430693\ttotal: 8.43s\tremaining: 4.64s\n",
      "129:\tlearn: 0.0427685\ttotal: 8.5s\tremaining: 4.58s\n",
      "130:\tlearn: 0.0425918\ttotal: 8.56s\tremaining: 4.51s\n",
      "131:\tlearn: 0.0423082\ttotal: 8.63s\tremaining: 4.45s\n",
      "132:\tlearn: 0.0421689\ttotal: 8.69s\tremaining: 4.38s\n",
      "133:\tlearn: 0.0420063\ttotal: 8.76s\tremaining: 4.31s\n",
      "134:\tlearn: 0.0417393\ttotal: 8.82s\tremaining: 4.25s\n",
      "135:\tlearn: 0.0415319\ttotal: 8.88s\tremaining: 4.18s\n",
      "136:\tlearn: 0.0413812\ttotal: 8.94s\tremaining: 4.11s\n",
      "137:\tlearn: 0.0412602\ttotal: 9s\tremaining: 4.04s\n",
      "138:\tlearn: 0.0410114\ttotal: 9.07s\tremaining: 3.98s\n",
      "139:\tlearn: 0.0407687\ttotal: 9.13s\tremaining: 3.91s\n",
      "140:\tlearn: 0.0406561\ttotal: 9.2s\tremaining: 3.85s\n",
      "141:\tlearn: 0.0405366\ttotal: 9.26s\tremaining: 3.78s\n",
      "142:\tlearn: 0.0402849\ttotal: 9.33s\tremaining: 3.72s\n",
      "143:\tlearn: 0.0400604\ttotal: 9.39s\tremaining: 3.65s\n",
      "144:\tlearn: 0.0399506\ttotal: 9.45s\tremaining: 3.59s\n",
      "145:\tlearn: 0.0397124\ttotal: 9.52s\tremaining: 3.52s\n",
      "146:\tlearn: 0.0395608\ttotal: 9.58s\tremaining: 3.45s\n",
      "147:\tlearn: 0.0393120\ttotal: 9.64s\tremaining: 3.39s\n",
      "148:\tlearn: 0.0390839\ttotal: 9.71s\tremaining: 3.32s\n",
      "149:\tlearn: 0.0389717\ttotal: 9.77s\tremaining: 3.26s\n",
      "150:\tlearn: 0.0388552\ttotal: 9.84s\tremaining: 3.19s\n",
      "151:\tlearn: 0.0386349\ttotal: 9.9s\tremaining: 3.13s\n",
      "152:\tlearn: 0.0384667\ttotal: 9.97s\tremaining: 3.06s\n",
      "153:\tlearn: 0.0382768\ttotal: 10s\tremaining: 3s\n",
      "154:\tlearn: 0.0381936\ttotal: 10.1s\tremaining: 2.93s\n",
      "155:\tlearn: 0.0380080\ttotal: 10.2s\tremaining: 2.87s\n",
      "156:\tlearn: 0.0378107\ttotal: 10.2s\tremaining: 2.8s\n",
      "157:\tlearn: 0.0377259\ttotal: 10.3s\tremaining: 2.73s\n",
      "158:\tlearn: 0.0375400\ttotal: 10.4s\tremaining: 2.67s\n",
      "159:\tlearn: 0.0373672\ttotal: 10.4s\tremaining: 2.6s\n",
      "160:\tlearn: 0.0372883\ttotal: 10.5s\tremaining: 2.54s\n",
      "161:\tlearn: 0.0371133\ttotal: 10.5s\tremaining: 2.47s\n",
      "162:\tlearn: 0.0369475\ttotal: 10.6s\tremaining: 2.41s\n",
      "163:\tlearn: 0.0368406\ttotal: 10.7s\tremaining: 2.34s\n"
     ]
    },
    {
     "name": "stdout",
     "output_type": "stream",
     "text": [
      "164:\tlearn: 0.0366799\ttotal: 10.7s\tremaining: 2.27s\n",
      "165:\tlearn: 0.0365054\ttotal: 10.8s\tremaining: 2.21s\n",
      "166:\tlearn: 0.0364223\ttotal: 10.8s\tremaining: 2.14s\n",
      "167:\tlearn: 0.0363396\ttotal: 10.9s\tremaining: 2.08s\n",
      "168:\tlearn: 0.0362396\ttotal: 11s\tremaining: 2.01s\n",
      "169:\tlearn: 0.0360779\ttotal: 11s\tremaining: 1.95s\n",
      "170:\tlearn: 0.0359848\ttotal: 11.1s\tremaining: 1.88s\n",
      "171:\tlearn: 0.0359099\ttotal: 11.2s\tremaining: 1.82s\n",
      "172:\tlearn: 0.0356932\ttotal: 11.2s\tremaining: 1.75s\n",
      "173:\tlearn: 0.0354361\ttotal: 11.3s\tremaining: 1.69s\n",
      "174:\tlearn: 0.0353232\ttotal: 11.3s\tremaining: 1.62s\n",
      "175:\tlearn: 0.0351773\ttotal: 11.4s\tremaining: 1.56s\n",
      "176:\tlearn: 0.0351078\ttotal: 11.5s\tremaining: 1.49s\n",
      "177:\tlearn: 0.0350374\ttotal: 11.5s\tremaining: 1.43s\n",
      "178:\tlearn: 0.0349628\ttotal: 11.6s\tremaining: 1.36s\n",
      "179:\tlearn: 0.0348649\ttotal: 11.7s\tremaining: 1.3s\n",
      "180:\tlearn: 0.0347983\ttotal: 11.7s\tremaining: 1.23s\n",
      "181:\tlearn: 0.0345978\ttotal: 11.8s\tremaining: 1.17s\n",
      "182:\tlearn: 0.0345322\ttotal: 11.9s\tremaining: 1.1s\n",
      "183:\tlearn: 0.0344297\ttotal: 11.9s\tremaining: 1.04s\n",
      "184:\tlearn: 0.0343438\ttotal: 12s\tremaining: 972ms\n",
      "185:\tlearn: 0.0342196\ttotal: 12.1s\tremaining: 907ms\n",
      "186:\tlearn: 0.0340479\ttotal: 12.1s\tremaining: 842ms\n",
      "187:\tlearn: 0.0339508\ttotal: 12.2s\tremaining: 778ms\n",
      "188:\tlearn: 0.0338834\ttotal: 12.2s\tremaining: 713ms\n",
      "189:\tlearn: 0.0337425\ttotal: 12.3s\tremaining: 648ms\n",
      "190:\tlearn: 0.0336569\ttotal: 12.4s\tremaining: 583ms\n",
      "191:\tlearn: 0.0335709\ttotal: 12.4s\tremaining: 518ms\n",
      "192:\tlearn: 0.0334875\ttotal: 12.5s\tremaining: 454ms\n",
      "193:\tlearn: 0.0334226\ttotal: 12.6s\tremaining: 389ms\n",
      "194:\tlearn: 0.0332888\ttotal: 12.6s\tremaining: 324ms\n",
      "195:\tlearn: 0.0331004\ttotal: 12.7s\tremaining: 259ms\n",
      "196:\tlearn: 0.0329492\ttotal: 12.8s\tremaining: 194ms\n",
      "197:\tlearn: 0.0328710\ttotal: 12.8s\tremaining: 130ms\n",
      "198:\tlearn: 0.0328094\ttotal: 12.9s\tremaining: 64.8ms\n",
      "199:\tlearn: 0.0327170\ttotal: 12.9s\tremaining: 0us\n"
     ]
    },
    {
     "data": {
      "text/plain": [
       "<catboost.core.CatBoostClassifier at 0x229677334f0>"
      ]
     },
     "execution_count": 129,
     "metadata": {},
     "output_type": "execute_result"
    }
   ],
   "source": [
    "catboost_classifier.fit(X_train_over, y_train_over)"
   ]
  },
  {
   "cell_type": "code",
   "execution_count": 130,
   "metadata": {},
   "outputs": [
    {
     "name": "stdout",
     "output_type": "stream",
     "text": [
      "[[1001217   15521]\n",
      " [     11    1271]]\n",
      "              precision    recall  f1-score   support\n",
      "\n",
      "           0       1.00      0.98      0.99   1016738\n",
      "           1       0.08      0.99      0.14      1282\n",
      "\n",
      "    accuracy                           0.98   1018020\n",
      "   macro avg       0.54      0.99      0.57   1018020\n",
      "weighted avg       1.00      0.98      0.99   1018020\n",
      "\n"
     ]
    }
   ],
   "source": [
    "catboost_y_val_pred = catboost_classifier.predict(X_val)\n",
    "\n",
    "#Confusion Matrix\n",
    "print(confusion_matrix(y_val, catboost_y_val_pred))\n",
    "\n",
    "#Classification Report\n",
    "print(classification_report(y_val, catboost_y_val_pred))"
   ]
  },
  {
   "cell_type": "code",
   "execution_count": 120,
   "metadata": {},
   "outputs": [
    {
     "data": {
      "text/plain": [
       "<AxesSubplot:>"
      ]
     },
     "execution_count": 120,
     "metadata": {},
     "output_type": "execute_result"
    },
    {
     "data": {
      "image/png": "[encoded data removed]",
      "text/plain": [
       "<Figure size 432x288 with 1 Axes>"
      ]
     },
     "metadata": {
      "needs_background": "light"
     },
     "output_type": "display_data"
    }
   ],
   "source": [
    "importances = pd.DataFrame(catboost.feature_importances_, X_train.columns, \n",
    "                           columns=['Feature_importance'])\n",
    "importances.sort_values(by = 'Feature_importance').plot.barh()"
   ]
  },
  {
   "cell_type": "code",
   "execution_count": 122,
   "metadata": {},
   "outputs": [
    {
     "data": {
      "text/plain": [
       "['catboost_classifier.pkl']"
      ]
     },
     "execution_count": 122,
     "metadata": {},
     "output_type": "execute_result"
    }
   ],
   "source": [
    "joblib.dump(catboost_classifier, 'catboost_classifier.pkl')"
   ]
  },
  {
   "cell_type": "markdown",
   "metadata": {},
   "source": [
    "## Test Set 결과"
   ]
  },
  {
   "cell_type": "code",
   "execution_count": 136,
   "metadata": {},
   "outputs": [],
   "source": [
    "dt_y_test_pred = dt_classifier.predict(X_test)\n",
    "xgb_y_test_pred = xgb_classifier.predict(X_test)\n",
    "catboost_y_test_pred = catboost_classifier.predict(X_test)"
   ]
  },
  {
   "cell_type": "code",
   "execution_count": 138,
   "metadata": {
    "scrolled": false
   },
   "outputs": [
    {
     "name": "stdout",
     "output_type": "stream",
     "text": [
      "Decision Tree Model\n",
      "              precision    recall  f1-score   support\n",
      "\n",
      "           0       1.00      1.00      1.00   1270904\n",
      "           1       0.71      0.96      0.81      1620\n",
      "\n",
      "    accuracy                           1.00   1272524\n",
      "   macro avg       0.85      0.98      0.91   1272524\n",
      "weighted avg       1.00      1.00      1.00   1272524\n",
      "\n",
      "XGBoost Model\n",
      "              precision    recall  f1-score   support\n",
      "\n",
      "           0       1.00      1.00      1.00   1270904\n",
      "           1       0.43      0.99      0.60      1620\n",
      "\n",
      "    accuracy                           1.00   1272524\n",
      "   macro avg       0.71      0.99      0.80   1272524\n",
      "weighted avg       1.00      1.00      1.00   1272524\n",
      "\n",
      "CatBoost Model\n",
      "              precision    recall  f1-score   support\n",
      "\n",
      "           0       1.00      0.98      0.99   1270904\n",
      "           1       0.08      1.00      0.14      1620\n",
      "\n",
      "    accuracy                           0.98   1272524\n",
      "   macro avg       0.54      0.99      0.57   1272524\n",
      "weighted avg       1.00      0.98      0.99   1272524\n",
      "\n"
     ]
    }
   ],
   "source": [
    "print(\"Decision Tree Model\")\n",
    "print(classification_report(y_test, dt_y_test_pred))\n",
    "print(\"XGBoost Model\")\n",
    "print(classification_report(y_test, xgb_y_test_pred))\n",
    "print(\"CatBoost Model\")\n",
    "print(classification_report(y_test, catboost_y_test_pred))"
   ]
  },
  {
   "cell_type": "markdown",
   "metadata": {},
   "source": [
    "총 3가지 모델을 살펴보았을 때 recall 값에 중요도를 놓고 본다면 XGB, CatBoost 모델이 좋은 성능을 보이고 있습니다. 이는 위에서 언급했듯이 실제 사기인 것 중에 올바르게 사기라고 맞춘 것의 비율이기 때문에 중요한 지표는 맞습니다.\n",
    "그러나, 결제, 이체 과정에서 정상적인 결과를 사기라고 예측한다면 그것 또한 문제가 될 수 있기 때문에 전반적인 성능이 높은 DecisionTree 모델을 이용해 예측을 진행하는 것이 좋다고 생각합니다.\n",
    "\n",
    "지금까지의 결과를 종합하면 결제, 이체 과정에서 발생하는 사기는 이체, 그리고 cash-out 출금 과정에서 일어나는 것을 알 수 있습니다. \n",
    "이 과정에 좀 더 집중하여 사기를 탐지한다면 좀 더 안정적인 뱅킹 시스템을 구축할 수 있을 것이라고 생각합니다."
   ]
  }
 ],
 "metadata": {
  "kernelspec": {
   "display_name": "Python 3 (ipykernel)",
   "language": "python",
   "name": "python3"
  },
  "language_info": {
   "codemirror_mode": {
    "name": "ipython",
    "version": 3
   },
   "file_extension": ".py",
   "mimetype": "text/x-python",
   "name": "python",
   "nbconvert_exporter": "python",
   "pygments_lexer": "ipython3",
   "version": "3.9.7"
  }
 },
 "nbformat": 4,
 "nbformat_minor": 4
}
